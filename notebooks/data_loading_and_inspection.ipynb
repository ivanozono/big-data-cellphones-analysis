{
 "cells": [
  {
   "cell_type": "markdown",
   "metadata": {},
   "source": []
  },
  {
   "cell_type": "code",
   "execution_count": 4,
   "metadata": {},
   "outputs": [],
   "source": [
    "from pyspark.sql import SparkSession\n",
    "\n",
    "spark = SparkSession.builder \\\n",
    "    .appName(\"Cell_Phones_Analysis\") \\\n",
    "    .getOrCreate()\n"
   ]
  },
  {
   "cell_type": "code",
   "execution_count": 5,
   "metadata": {},
   "outputs": [
    {
     "name": "stderr",
     "output_type": "stream",
     "text": [
      "23/10/18 15:36:02 WARN package: Truncated the string representation of a plan since it was too large. This behavior can be adjusted by setting 'spark.sql.debug.maxToStringFields'.\n"
     ]
    }
   ],
   "source": [
    "# Cargar el archivo JSON\n",
    "path_to_json = \"../data_amazon/Cell_Phones_and_Accessories.json\"\n",
    "\n",
    "# Cargar el dataset\n",
    "\n",
    "df = spark.read.json(path_to_json)\n"
   ]
  },
  {
   "cell_type": "code",
   "execution_count": 7,
   "metadata": {},
   "outputs": [
    {
     "name": "stdout",
     "output_type": "stream",
     "text": [
      "+----------+-----+-------+--------------------+-----------+--------------+--------------------+-----+--------------------+--------------+--------+----+\n",
      "|      asin|image|overall|          reviewText| reviewTime|    reviewerID|        reviewerName|style|             summary|unixReviewTime|verified|vote|\n",
      "+----------+-----+-------+--------------------+-----------+--------------+--------------------+-----+--------------------+--------------+--------+----+\n",
      "|098949232X| null|    5.0|If your into spac...|11 19, 2014|A1GG51FWU0XQYH|       Paul Williams| null|          Five Stars|    1416355200|   false|null|\n",
      "|098949232X| null|    5.0|   Awesome pictures!|11 19, 2014| AVFIDS9RK38E0|         Sean Powell| null|          Five Stars|    1416355200|   false|null|\n",
      "|098949232X| null|    5.0|Great wall art an...|11 19, 2014|A2S4AVR5SJ7KMI|           Tom Davis| null|          Five Stars|    1416355200|   false|null|\n",
      "|098949232X| null|    5.0|As always, it is ...|11 19, 2014| AEMMMVOR9BFLI|            Kwajmeck| null|I love it. I buy ...|    1416355200|   false|null|\n",
      "|098949232X| null|    5.0|This is a fantast...|11 19, 2014|A2DZXMBTY7KLYP|            ScottG43| null|     Great Calendar.|    1416355200|   false|null|\n",
      "|098949232X| null|    5.0|It's great, I get...|11 19, 2014| AUD367H6I25FX|  Michael Lee Warren| null|    Awesome Calendar|    1416355200|   false|null|\n",
      "|098949232X| null|    5.0|2015 will be my 3...|11 19, 2014|A3K6KUWAZ6SWHE|Daniel Alexander ...| null|     Great calendar!|    1416355200|   false|null|\n",
      "|098949232X| null|    5.0|My son loves this...|11 19, 2014|A1FPEO0ME9G4VY|           B. Willey| null|          Five Stars|    1416355200|   false|null|\n",
      "|098949232X| null|    5.0|A great calendar ...|02 20, 2015|A20AOY7UXJA710|           Michael D| null|Great Calendar fo...|    1424390400|    true|null|\n",
      "|098949232X| null|    5.0|Lots and lots of ...|02 13, 2015|A222LHL23AH0GK|               Nancy| null|          Five Stars|    1423785600|    true|null|\n",
      "|098949232X| null|    5.0|I love all the sp...| 02 9, 2015| AZSP9XAX38DG0|    Kristina Edwards| null|I love all the sp...|    1423440000|    true|null|\n",
      "|098949232X| null|    5.0|Hung it in a high...| 02 7, 2015|A1N5IO8FW9EE6R|         Becky Green| null|          Five Stars|    1423267200|    true|null|\n",
      "|098949232X| null|    5.0|This is a must fo...| 02 2, 2015|A1QI7X0NQ1PUHD|             Jason D| null|A must for astron...|    1422835200|    true|null|\n",
      "|098949232X| null|    5.0|Nice printing. Lo...| 02 1, 2015|A3SF5P30FK4Y5Y|              _pjjs_| null|Great & interesti...|    1422748800|    true|null|\n",
      "|098949232X| null|    5.0|Very nice and del...|01 27, 2015|A3KZZYLU5VT4VJ|            HighTech| null|Nice wall calenda...|    1422316800|    true|null|\n",
      "|098949232X| null|    5.0|I have been buyin...|01 27, 2015| ALK31UO248EH1|      Wendy Behrbaum| null|It is beautifully...|    1422316800|   false|null|\n",
      "|098949232X| null|    5.0|Each page is full...|01 23, 2015| AP5I1RWKMQ6BT|        M. J. Bailey| null| Visual eye candy...|    1421971200|    true|null|\n",
      "|098949232X| null|    5.0|One of the cooles...|01 22, 2015|A1TKWOUJB8OE8T|       Mike Stauffer| null|All the extra coo...|    1421884800|    true|null|\n",
      "|098949232X| null|    5.0|Great pictures an...|01 22, 2015|A1VKQUQJHJRA3F|           Ian Dorge| null|          Five Stars|    1421884800|    true|null|\n",
      "|098949232X| null|    5.0|This thing is Big...|01 20, 2015| A1399ZMDHQ1YH|                Wino| null|Not all Who Wande...|    1421712000|    true|null|\n",
      "+----------+-----+-------+--------------------+-----------+--------------+--------------------+-----+--------------------+--------------+--------+----+\n",
      "only showing top 20 rows\n",
      "\n"
     ]
    }
   ],
   "source": [
    "# Mostrar las primeras filas del DataFrame\n",
    "df.show()\n",
    "\n"
   ]
  },
  {
   "cell_type": "code",
   "execution_count": 8,
   "metadata": {},
   "outputs": [
    {
     "name": "stdout",
     "output_type": "stream",
     "text": [
      "root\n",
      " |-- asin: string (nullable = true)\n",
      " |-- image: array (nullable = true)\n",
      " |    |-- element: string (containsNull = true)\n",
      " |-- overall: double (nullable = true)\n",
      " |-- reviewText: string (nullable = true)\n",
      " |-- reviewTime: string (nullable = true)\n",
      " |-- reviewerID: string (nullable = true)\n",
      " |-- reviewerName: string (nullable = true)\n",
      " |-- style: struct (nullable = true)\n",
      " |    |-- Color Name:: string (nullable = true)\n",
      " |    |-- Color:: string (nullable = true)\n",
      " |    |-- Design:: string (nullable = true)\n",
      " |    |-- Edition:: string (nullable = true)\n",
      " |    |-- Flavor Name:: string (nullable = true)\n",
      " |    |-- Flavor:: string (nullable = true)\n",
      " |    |-- Format:: string (nullable = true)\n",
      " |    |-- Hand Orientation:: string (nullable = true)\n",
      " |    |-- Item Display Length:: string (nullable = true)\n",
      " |    |-- Item Package Quantity:: string (nullable = true)\n",
      " |    |-- Length:: string (nullable = true)\n",
      " |    |-- Material Type:: string (nullable = true)\n",
      " |    |-- Material:: string (nullable = true)\n",
      " |    |-- Metal Type:: string (nullable = true)\n",
      " |    |-- Model:: string (nullable = true)\n",
      " |    |-- Number of Items:: string (nullable = true)\n",
      " |    |-- Offer Type:: string (nullable = true)\n",
      " |    |-- Package Quantity:: string (nullable = true)\n",
      " |    |-- Package Type:: string (nullable = true)\n",
      " |    |-- Pattern:: string (nullable = true)\n",
      " |    |-- Product Packaging:: string (nullable = true)\n",
      " |    |-- Shape:: string (nullable = true)\n",
      " |    |-- Size Name:: string (nullable = true)\n",
      " |    |-- Size:: string (nullable = true)\n",
      " |    |-- Style Name:: string (nullable = true)\n",
      " |    |-- Style:: string (nullable = true)\n",
      " |    |-- Team Name:: string (nullable = true)\n",
      " |-- summary: string (nullable = true)\n",
      " |-- unixReviewTime: long (nullable = true)\n",
      " |-- verified: boolean (nullable = true)\n",
      " |-- vote: string (nullable = true)\n",
      "\n"
     ]
    }
   ],
   "source": [
    "# Imprimir el esquema del DataFrame\n",
    "df.printSchema()"
   ]
  },
  {
   "cell_type": "code",
   "execution_count": 9,
   "metadata": {},
   "outputs": [
    {
     "name": "stderr",
     "output_type": "stream",
     "text": [
      "[Stage 3:=====================================================>   (33 + 2) / 35]\r"
     ]
    },
    {
     "name": "stdout",
     "output_type": "stream",
     "text": [
      "Total de registros: 10063255\n"
     ]
    },
    {
     "name": "stderr",
     "output_type": "stream",
     "text": [
      "                                                                                \r"
     ]
    }
   ],
   "source": [
    "# Contar el número de registros\n",
    "count = df.count()\n",
    "print(f\"Total de registros: {count}\")"
   ]
  }
 ],
 "metadata": {
  "kernelspec": {
   "display_name": "env",
   "language": "python",
   "name": "python3"
  },
  "language_info": {
   "codemirror_mode": {
    "name": "ipython",
    "version": 3
   },
   "file_extension": ".py",
   "mimetype": "text/x-python",
   "name": "python",
   "nbconvert_exporter": "python",
   "pygments_lexer": "ipython3",
   "version": "3.10.10"
  },
  "orig_nbformat": 4
 },
 "nbformat": 4,
 "nbformat_minor": 2
}

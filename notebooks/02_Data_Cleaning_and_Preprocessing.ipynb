{
 "cells": [
  {
   "cell_type": "markdown",
   "metadata": {},
   "source": [
    "# Data Cleaning and Preprocessing\n",
    "\n",
    "\n",
    "\n",
    "In this notebook, we'll focus on cleaning and preprocessing our dataset for further analysis.\n",
    "\n"
   ]
  },
  {
   "cell_type": "code",
   "execution_count": 1,
   "metadata": {},
   "outputs": [
    {
     "name": "stderr",
     "output_type": "stream",
     "text": [
      "23/10/30 17:03:32 WARN Utils: Your hostname, MacBook-Air-de-Ivan.local resolves to a loopback address: 127.0.0.1; using 192.168.0.10 instead (on interface en0)\n",
      "23/10/30 17:03:32 WARN Utils: Set SPARK_LOCAL_IP if you need to bind to another address\n",
      "Setting default log level to \"WARN\".\n",
      "To adjust logging level use sc.setLogLevel(newLevel). For SparkR, use setLogLevel(newLevel).\n",
      "23/10/30 17:03:33 WARN NativeCodeLoader: Unable to load native-hadoop library for your platform... using builtin-java classes where applicable\n",
      "23/10/30 17:03:34 WARN Utils: Service 'SparkUI' could not bind on port 4040. Attempting port 4041.\n"
     ]
    }
   ],
   "source": [
    "from pyspark.sql import SparkSession\n",
    "\n",
    "spark = SparkSession.builder \\\n",
    "    .appName(\"Cell_Phones_Analysis_Cleaning\") \\\n",
    "    .getOrCreate()\n"
   ]
  },
  {
   "cell_type": "markdown",
   "metadata": {},
   "source": [
    "### Setup and Data Loading\n",
    "\n",
    "Import Necessary Libraries"
   ]
  },
  {
   "cell_type": "code",
   "execution_count": 2,
   "metadata": {},
   "outputs": [
    {
     "name": "stderr",
     "output_type": "stream",
     "text": [
      "23/10/30 17:04:01 WARN package: Truncated the string representation of a plan since it was too large. This behavior can be adjusted by setting 'spark.sql.debug.maxToStringFields'.\n"
     ]
    }
   ],
   "source": [
    "from pyspark.sql import functions as F\n",
    "\n",
    "path_to_json = \"../data_amazon/Cell_Phones_and_Accessories.json\"\n",
    "df = spark.read.json(path_to_json)\n"
   ]
  },
  {
   "cell_type": "markdown",
   "metadata": {},
   "source": [
    "### Preliminary Inspection\n",
    "\n",
    "Check for Null Values"
   ]
  },
  {
   "cell_type": "code",
   "execution_count": 3,
   "metadata": {},
   "outputs": [
    {
     "name": "stderr",
     "output_type": "stream",
     "text": [
      "[Stage 1:=====================================================>   (33 + 2) / 35]\r"
     ]
    },
    {
     "name": "stdout",
     "output_type": "stream",
     "text": [
      "+----+-------+-------+----------+----------+----------+------------+-------+-------+--------------+--------+-------+\n",
      "|asin|  image|overall|reviewText|reviewTime|reviewerID|reviewerName|  style|summary|unixReviewTime|verified|   vote|\n",
      "+----+-------+-------+----------+----------+----------+------------+-------+-------+--------------+--------+-------+\n",
      "|   0|9880950|      0|      9373|         0|         0|         727|5046121|   5519|             0|       0|9373510|\n",
      "+----+-------+-------+----------+----------+----------+------------+-------+-------+--------------+--------+-------+\n",
      "\n"
     ]
    },
    {
     "name": "stderr",
     "output_type": "stream",
     "text": [
      "                                                                                \r"
     ]
    }
   ],
   "source": [
    "null_counts = df.select([F.count(F.when(F.isnull(c), c)).alias(c) for c in df.columns])\n",
    "null_counts.show()\n"
   ]
  },
  {
   "cell_type": "markdown",
   "metadata": {},
   "source": [
    "### Null Values Analysis\n",
    "\n",
    "From the table above, we can observe the number of null or missing values for each column in the dataset:\n",
    "\n",
    "- **asin**: There are no missing values.\n",
    "- **image**: 9,880,950 entries are null.\n",
    "- **overall**: No missing values.\n",
    "- **reviewText**: 9,373 entries are null.\n",
    "- **reviewTime**: No missing values.\n",
    "- **reviewerID**: No missing values.\n",
    "- **reviewerName**: 727 entries are null.\n",
    "- **style**: 5,046,121 entries are null.\n",
    "- **summary**: 5,519 entries are null.\n",
    "- **unixReviewTime**: No missing values.\n",
    "- **verified**: No missing values.\n",
    "- **vote**: 9,373,510 entries are null.\n",
    "\n",
    "This gives us an insight into which columns have significant missing data. Especially, the `image`, `style`, and `vote` columns have a high number of null entries. \n"
   ]
  },
  {
   "cell_type": "markdown",
   "metadata": {},
   "source": [
    "## Handling Missing Data\n",
    "\n",
    "We'll address columns with missing values and decide whether to fill them or drop them based on the context.\n"
   ]
  },
  {
   "cell_type": "markdown",
   "metadata": {},
   "source": [
    "### Dropping the `image` column\n",
    "Given that image analysis is not part of our study, we'll proceed to drop the `image` column from our dataset.\n"
   ]
  },
  {
   "cell_type": "code",
   "execution_count": 4,
   "metadata": {},
   "outputs": [],
   "source": [
    "# Dropping the 'image' column from the DataFrame\n",
    "df = df.drop(\"image\")\n"
   ]
  },
  {
   "cell_type": "markdown",
   "metadata": {},
   "source": [
    "The `image` column has been successfully dropped from the dataset. We can verify this by inspecting the updated schema of our DataFrame.\n"
   ]
  },
  {
   "cell_type": "code",
   "execution_count": 5,
   "metadata": {},
   "outputs": [
    {
     "name": "stdout",
     "output_type": "stream",
     "text": [
      "root\n",
      " |-- asin: string (nullable = true)\n",
      " |-- overall: double (nullable = true)\n",
      " |-- reviewText: string (nullable = true)\n",
      " |-- reviewTime: string (nullable = true)\n",
      " |-- reviewerID: string (nullable = true)\n",
      " |-- reviewerName: string (nullable = true)\n",
      " |-- style: struct (nullable = true)\n",
      " |    |-- Color Name:: string (nullable = true)\n",
      " |    |-- Color:: string (nullable = true)\n",
      " |    |-- Design:: string (nullable = true)\n",
      " |    |-- Edition:: string (nullable = true)\n",
      " |    |-- Flavor Name:: string (nullable = true)\n",
      " |    |-- Flavor:: string (nullable = true)\n",
      " |    |-- Format:: string (nullable = true)\n",
      " |    |-- Hand Orientation:: string (nullable = true)\n",
      " |    |-- Item Display Length:: string (nullable = true)\n",
      " |    |-- Item Package Quantity:: string (nullable = true)\n",
      " |    |-- Length:: string (nullable = true)\n",
      " |    |-- Material Type:: string (nullable = true)\n",
      " |    |-- Material:: string (nullable = true)\n",
      " |    |-- Metal Type:: string (nullable = true)\n",
      " |    |-- Model:: string (nullable = true)\n",
      " |    |-- Number of Items:: string (nullable = true)\n",
      " |    |-- Offer Type:: string (nullable = true)\n",
      " |    |-- Package Quantity:: string (nullable = true)\n",
      " |    |-- Package Type:: string (nullable = true)\n",
      " |    |-- Pattern:: string (nullable = true)\n",
      " |    |-- Product Packaging:: string (nullable = true)\n",
      " |    |-- Shape:: string (nullable = true)\n",
      " |    |-- Size Name:: string (nullable = true)\n",
      " |    |-- Size:: string (nullable = true)\n",
      " |    |-- Style Name:: string (nullable = true)\n",
      " |    |-- Style:: string (nullable = true)\n",
      " |    |-- Team Name:: string (nullable = true)\n",
      " |-- summary: string (nullable = true)\n",
      " |-- unixReviewTime: long (nullable = true)\n",
      " |-- verified: boolean (nullable = true)\n",
      " |-- vote: string (nullable = true)\n",
      "\n"
     ]
    }
   ],
   "source": [
    "df.printSchema()"
   ]
  },
  {
   "cell_type": "markdown",
   "metadata": {},
   "source": [
    "### Imputing Missing Values in `reviewText` Column\n",
    "For the `reviewText` column, we observed that there are some missing entries. To address this, we will impute these missing values with a placeholder text \"No review text provided\".\n"
   ]
  },
  {
   "cell_type": "code",
   "execution_count": 6,
   "metadata": {},
   "outputs": [],
   "source": [
    "# Imputing missing values in the 'reviewText' column\n",
    "df = df.na.fill({\"reviewText\": \"No review text provided\"})\n"
   ]
  },
  {
   "cell_type": "markdown",
   "metadata": {},
   "source": [
    "\n",
    "The missing values in the `reviewText` column have been successfully imputed. We can verify this by inspecting a few rows where the `reviewText` was previously missing.\n"
   ]
  },
  {
   "cell_type": "code",
   "execution_count": 7,
   "metadata": {},
   "outputs": [
    {
     "name": "stderr",
     "output_type": "stream",
     "text": [
      "[Stage 4:>                                                          (0 + 1) / 1]\r"
     ]
    },
    {
     "name": "stdout",
     "output_type": "stream",
     "text": [
      "+----------+-------+--------------------+-----------+--------------+-----------------+--------------------+--------------------+--------------+--------+----+\n",
      "|      asin|overall|          reviewText| reviewTime|    reviewerID|     reviewerName|               style|             summary|unixReviewTime|verified|vote|\n",
      "+----------+-------+--------------------+-----------+--------------+-----------------+--------------------+--------------------+--------------+--------+----+\n",
      "|B0002SYC5O|    5.0|No review text pr...|10 18, 2015| AYDRLIY68ZXVI|  Amazon Customer|{null,  Black, nu...|          Five Stars|    1445126400|    true|null|\n",
      "|B0007LA92G|    5.0|No review text pr...| 04 1, 2015|A21YM2AVDUT42X|    Tracey Barton|                null|          Five Stars|    1427846400|    true|null|\n",
      "|B000A7ZWQK|    5.0|No review text pr...|06 28, 2016|A3OITH71ER9Q34|   Kevin Corcoran|{null,  193, null...|          Five Stars|    1467072000|    true|null|\n",
      "|B000IXNEI4|    5.0|No review text pr...| 04 8, 2015|A2NLIDP999X9O9|abraham rodriguez|                null|          Five Stars|    1428451200|    true|null|\n",
      "|B000NLOK7A|    5.0|No review text pr...|04 22, 2016|A3QUEATVQZGEP2|              U.K|{null,  Marine, n...|          Five Stars|    1461283200|    true|null|\n",
      "|B000NVZE5M|    5.0|No review text pr...| 06 2, 2008|A266YRXQY8E6D6|     Fred Bissell|{null, null, null...|           garmin200|    1212364800|   false|null|\n",
      "|B000PB8CQI|    5.0|No review text pr...|05 24, 2015| AK1A6OK0AFBIT|  Shawn L Budovic|                null|          Five Stars|    1432425600|    true|null|\n",
      "|B000VMLONO|    5.0|No review text pr...|09 16, 2014|A1ZCEUGRSMRW8R|      Emma Bryson|{null,  Raspberry...|          Five Stars|    1410825600|   false|null|\n",
      "|B000Y1L1MQ|    3.0|No review text pr...|12 18, 2017|A3RSNJAN49DRYQ|  Blessed Phoenix|{null,  Black, nu...|Better suited for...|    1513555200|   false|null|\n",
      "|B0014KOB6Y|    5.0|No review text pr...|03 10, 2016|A11Y54AW3D118I|   gabriel mojica|{null,  1 Room 3G...|          Five Stars|    1457568000|    true|null|\n",
      "|B000VMLONO|    5.0|No review text pr...|09 16, 2014|A1ZCEUGRSMRW8R|      Emma Bryson|{null,  Raspberry...|          Five Stars|    1410825600|   false|null|\n",
      "|B000Y1L1MQ|    3.0|No review text pr...|12 18, 2017|A3RSNJAN49DRYQ|  Blessed Phoenix|{null,  Black, nu...|Better suited for...|    1513555200|   false|null|\n",
      "|B0014KOB6Y|    5.0|No review text pr...|03 10, 2016|A11Y54AW3D118I|   gabriel mojica|{null,  1 Room 3G...|          Five Stars|    1457568000|    true|null|\n",
      "|B001BKWX1M|    5.0|No review text pr...|07 25, 2017|A2ZJ1P3FRUTLWV|  Amazon Customer|{null,  Black, nu...|          Five Stars|    1500940800|    true|null|\n",
      "|B001BKWX1M|    4.0|No review text pr...| 12 6, 2014|A2RWF7H96XCBQV|     Sandra Baker|{null,  Black, nu...|          Four Stars|    1417824000|    true|null|\n",
      "|B001ETRNAQ|    1.0|No review text pr...|08 17, 2014|A11NWZU48ILO52|  Sherry Harrison|                null|            One Star|    1408233600|    true|null|\n",
      "|B001FVQ4TY|    5.0|No review text pr...|10 29, 2017|A1Z5CKEESVRY6L|               ot|{null,  iPhone 5/...|          Five Stars|    1509235200|    true|null|\n",
      "|B001FVQ4TY|    5.0|No review text pr...|12 18, 2015|A3IT32188QCVF5|  Amazon Customer|{null,  iPhone 5/...|          Five Stars|    1450396800|    true|null|\n",
      "|B001H3ON0W|    5.0|No review text pr...|04 29, 2015|A29X3G0ERPE1NN|         Salvador|                null|          Five Stars|    1430265600|    true|null|\n",
      "|B001IYSKPY|    5.0|No review text pr...| 03 3, 2017| AH49X577HR153|   SHELLIZA FAZAL|{null,  white-4, ...|          Five Stars|    1488499200|    true|null|\n",
      "+----------+-------+--------------------+-----------+--------------+-----------------+--------------------+--------------------+--------------+--------+----+\n",
      "only showing top 20 rows\n",
      "\n"
     ]
    },
    {
     "name": "stderr",
     "output_type": "stream",
     "text": [
      "                                                                                \r"
     ]
    }
   ],
   "source": [
    "# Displaying rows where 'reviewText' is \"No review text provided\"\n",
    "df.filter(df[\"reviewText\"] == \"No review text provided\").show()\n"
   ]
  },
  {
   "cell_type": "markdown",
   "metadata": {},
   "source": [
    "### Imputing Missing Values in `reviewerName` Column\n",
    "There are 727 missing entries in the `reviewerName` column. Instead of leaving them as null, it might be beneficial to replace them with a generic placeholder like \"Anonymous\" to indicate that the reviewer's name is not provided.\n"
   ]
  },
  {
   "cell_type": "code",
   "execution_count": 8,
   "metadata": {},
   "outputs": [],
   "source": [
    "# Imputing missing values in the 'reviewerName' column\n",
    "df = df.na.fill({\"reviewerName\": \"Anonymous\"})\n"
   ]
  },
  {
   "cell_type": "markdown",
   "metadata": {},
   "source": [
    "The missing values in the `reviewerName` column have been successfully imputed with the \"Anonymous\" placeholder. We can further validate this by checking a few rows where the `reviewerName` was previously missing.\n"
   ]
  },
  {
   "cell_type": "code",
   "execution_count": 9,
   "metadata": {},
   "outputs": [
    {
     "name": "stdout",
     "output_type": "stream",
     "text": [
      "+----------+-------+--------------------+-----------+--------------+------------+--------------------+--------------------+--------------+--------+----+\n",
      "|      asin|overall|          reviewText| reviewTime|    reviewerID|reviewerName|               style|             summary|unixReviewTime|verified|vote|\n",
      "+----------+-------+--------------------+-----------+--------------+------------+--------------------+--------------------+--------------+--------+----+\n",
      "|9707716371|    3.0|Had this battery ...| 10 8, 2017| APOMPL5SOEWAJ|   Anonymous|                null|      Good not great|    1507420800|    true|null|\n",
      "|9713248031|    1.0|Received this ite...|03 30, 2017|A1KGPKYBJNSTIQ|   Anonymous|{null,  White, nu...|not a samsung cha...|    1490832000|    true|null|\n",
      "|9791151504|    5.0|Exactly what I ne...|07 27, 2016|A2GRSR5W5V5QVT|   Anonymous|                null|          Five Stars|    1469577600|    true|null|\n",
      "|B0002W2H2K|    3.0|I have owned this...|08 21, 2005|A16D87D6594DF5|   Anonymous|                null|Motorola - Their ...|    1124582400|   false|  10|\n",
      "|B00050WQ1G|    5.0|As some backgroun...|10 13, 2013|A3BXYTXHBBSVBV|   Anonymous|                null|Useful for Magnet...|    1381622400|   false|  40|\n",
      "|B00063DKVC|    5.0|If you think you ...|11 15, 2004|A1X9H11AEX42NV|   Anonymous|                null|      SKII Addiction|    1100476800|   false|  46|\n",
      "|B0009AU6W8|    5.0|you get a new sim...|01 13, 2008| AWCTU71GUVUZK|   Anonymous|                null|new sim with upgrade|    1200182400|    true|null|\n",
      "|B0009B0IX4|    4.0|This device worke...| 03 2, 2011|A1K7HOB9USTYST|   Anonymous|{null, null, null...|       Great Device!|    1299024000|    true|null|\n",
      "|B0009B0IX4|    2.0|This headset has ...|01 30, 2011|A3TOLM3SPTNZN0|   Anonymous|{null, null, null...|Plantronics Voyag...|    1296345600|   false|null|\n",
      "|B0009B0IX4|    4.0|I bought two to r...|12 27, 2010|A2DV3B1TIKZP17|   Anonymous|{null, null, null...|  good for the price|    1293408000|   false|null|\n",
      "|B0009B0IX4|    5.0|The Plantronics V...|06 12, 2009| A1VQHH85U7PX0|   Anonymous|{null, null, null...|  Just About Perfect|    1244764800|    true|   2|\n",
      "|B0009B0IX4|    4.0|This is my first ...| 05 1, 2009|A3BJJPHR8I1JGI|   Anonymous|{null, null, null...|Good one but no n...|    1241136000|    true|null|\n",
      "|B0009FCAJA|    1.0|Broke within 1 we...|07 15, 2015|A1O4I35CT37CLP|   Anonymous|                null|not original I guess|    1436918400|    true|null|\n",
      "|B000A1329U|    4.0|The Motorola RAZR...|02 21, 2006|A35L9MA0MU6VLL|   Anonymous|                null|                Wow!|    1140480000|   false|   3|\n",
      "|B000AXEJBI|    5.0|I am aware that t...|03 10, 2006|A2Z47P2ETODWHH|   Anonymous|                null|5 Stars for Durab...|    1141948800|   false|  11|\n",
      "|B000BBE9C8|    5.0|High quality soun...| 09 5, 2008| AAJ3UTFEJGK8Z|   Anonymous|                null|          Very Nice.|    1220572800|   false|null|\n",
      "|B000BBCTJ8|    3.0|The product is co...|04 18, 2011| AAO80AWXCN8K1|   Anonymous|                null|    Adequate headset|    1303084800|   false|null|\n",
      "|B000ID10JE|    3.0|This phone is bot...|02 26, 2007|A23H89P3892WOO|   Anonymous|                null|           Deceiving|    1172448000|   false|  13|\n",
      "|B000IXP96Y|    1.0|Paid one day ship...|07 13, 2011|A18JEPQ3S2VIKV|   Anonymous|                null| offbrand Zune cable|    1310515200|    true|null|\n",
      "|B000KEEQA6|    5.0|This container lo...| 05 2, 2011|A2F53HMP2JHIK9|   Anonymous|                null|        Love this...|    1304294400|    true|null|\n",
      "+----------+-------+--------------------+-----------+--------------+------------+--------------------+--------------------+--------------+--------+----+\n",
      "only showing top 20 rows\n",
      "\n"
     ]
    }
   ],
   "source": [
    "# Displaying rows where 'reviewerName' is \"Anonymous\"\n",
    "df.filter(df[\"reviewerName\"] == \"Anonymous\").show()\n"
   ]
  },
  {
   "cell_type": "markdown",
   "metadata": {},
   "source": [
    "### Dropping the `style` Column\n",
    "Given the substantial amount of missing data in the `style` column (5,046,121 entries) and its potential non-critical nature for our current analysis, we'll opt to drop this column from the dataset.\n"
   ]
  },
  {
   "cell_type": "code",
   "execution_count": 10,
   "metadata": {},
   "outputs": [],
   "source": [
    "# Dropping the 'style' column\n",
    "df = df.drop(\"style\")\n"
   ]
  },
  {
   "cell_type": "markdown",
   "metadata": {},
   "source": [
    "The `style` column has been successfully removed from the dataset. We can validate this by examining the updated schema of the dataframe.\n"
   ]
  },
  {
   "cell_type": "code",
   "execution_count": 11,
   "metadata": {},
   "outputs": [
    {
     "name": "stdout",
     "output_type": "stream",
     "text": [
      "root\n",
      " |-- asin: string (nullable = true)\n",
      " |-- overall: double (nullable = true)\n",
      " |-- reviewText: string (nullable = false)\n",
      " |-- reviewTime: string (nullable = true)\n",
      " |-- reviewerID: string (nullable = true)\n",
      " |-- reviewerName: string (nullable = false)\n",
      " |-- summary: string (nullable = true)\n",
      " |-- unixReviewTime: long (nullable = true)\n",
      " |-- verified: boolean (nullable = true)\n",
      " |-- vote: string (nullable = true)\n",
      "\n"
     ]
    }
   ],
   "source": [
    "# Displaying the updated schema of the dataframe\n",
    "df.printSchema()\n"
   ]
  },
  {
   "cell_type": "markdown",
   "metadata": {},
   "source": [
    "### Imputing Missing Summaries\n",
    "Given that there are 5,519 reviews without a summary, we'll replace these missing entries with a placeholder text \"No summary provided\" to ensure consistency within our dataset.\n"
   ]
  },
  {
   "cell_type": "code",
   "execution_count": 12,
   "metadata": {},
   "outputs": [],
   "source": [
    "# Replacing missing summaries with the placeholder text\n",
    "df = df.na.fill({\"summary\": \"No summary provided\"})\n"
   ]
  },
  {
   "cell_type": "markdown",
   "metadata": {},
   "source": [
    "Missing summaries have been successfully replaced with the placeholder \"No summary provided\". We can confirm this by querying records that previously had missing summaries.\n"
   ]
  },
  {
   "cell_type": "code",
   "execution_count": 13,
   "metadata": {},
   "outputs": [
    {
     "name": "stderr",
     "output_type": "stream",
     "text": [
      "[Stage 6:>                                                          (0 + 1) / 1]\r"
     ]
    },
    {
     "name": "stdout",
     "output_type": "stream",
     "text": [
      "+----------+-------+---------------------------------------------------------------------------------------------------------------------------------------------------------------------------------------------------------------------------------------------------------------------------------------------------------------------------------------------------------------------------------------------------------------------------------------------------------------------------------------------------------------------------------------------------------------------------------------------------+-----------+--------------+---------------------+-------------------+--------------+--------+----+\n",
      "|asin      |overall|reviewText                                                                                                                                                                                                                                                                                                                                                                                                                                                                                                                                                                                         |reviewTime |reviewerID    |reviewerName         |summary            |unixReviewTime|verified|vote|\n",
      "+----------+-------+---------------------------------------------------------------------------------------------------------------------------------------------------------------------------------------------------------------------------------------------------------------------------------------------------------------------------------------------------------------------------------------------------------------------------------------------------------------------------------------------------------------------------------------------------------------------------------------------------+-----------+--------------+---------------------+-------------------+--------------+--------+----+\n",
      "|B000A7ZWQK|5.0    |yeah its pricey but apparently its cheaper on the bill by a bit. last month with a high pressure sodium light about the same lumens I paid just under a hundred for my overall bill. I was only home for 2 weeks and the air was turned up a bit.\\n  This month with the light and me at home the whole month my bill was 110 versus like 96 before. I am sure there have to be at least a 5 to 7 dollar savings a month on this light. burns dusk to dawn every night.                                                                                                                            |08 30, 2013|A2K5X0EIJ1HXE7|James I. Battles     |No summary provided|1377820800    |true    |3   |\n",
      "|B000G2TLIO|1.0    |The numbers in the back didn't match the phone.. Don't purchase a phone from this company!!!                                                                                                                                                                                                                                                                                                                                                                                                                                                                                                       |03 25, 2017|A391WHVZ1FCYMZ|Bianca Gutierrez     |No summary provided|1490400000    |true    |null|\n",
      "|B000NLOK7A|5.0    |Perfect thankyou                                                                                                                                                                                                                                                                                                                                                                                                                                                                                                                                                                                   |10 7, 2016 |A1K8RW9ZOS5KX0|Rosaila              |No summary provided|1475798400    |true    |null|\n",
      "|B000W7XKH6|5.0    |!  Very cute, I love it! It is just like the picture.  I got the pink one and so happy I got it!                                                                                                                                                                                                                                                                                                                                                                                                                                                                                                   |10 20, 2014|A3HN0SRHP9HAPR|Hannah               |No summary provided|1413763200    |false   |5   |\n",
      "|B001321FX0|2.0    |The holster did everything it was supposed to do except last . The belt clip seperated from the holster within three days .                                                                                                                                                                                                                                                                                                                                                                                                                                                                        |01 9, 2010 |A1S1GNW6PFG47O|Michael R. Carey     |No summary provided|1262995200    |true    |null|\n",
      "|B001588SHI|4.0    |GREAT product!   -                                                                                                                                                                                                                                                                                                                                                                                                                                                                                                                                                                                 |01 28, 2015|A3EYRO1LOI1JR6|Prajnic Healer       |No summary provided|1422403200    |true    |null|\n",
      "|B0015A4TQK|2.0    |Battery was wrong size. Difficult to order.  Appeared to be OK except for the size. I will try to return and see what happens.                                                                                                                                                                                                                                                                                                                                                                                                                                                                     |04 18, 2014|AVT0UV3OZ41US |Jeff Lundy           |No summary provided|1397779200    |true    |null|\n",
      "|B0016JDE34|1.0    |I purchased 4 of these to replace old RAZR V3S that I loved. I was quite disappointed that they couldn't be used to send or receive messages with pictures. I received instructions on returning them and followed them in sending them back to ISRAEL as instructed to only have them not accepting them and then returning the package back to me. This was a $50.25 expense for me. The package returned as unclaimed. So I have not only the expense of the phones and supposedly return shipping with no usable phone for what I wanted. This has been to me a MINUS 5 star experience for me.|08 6, 2015 |ASQ9SWA748JP1 |Donald Hull          |No summary provided|1438819200    |true    |null|\n",
      "|B000W7XKH6|5.0    |!  Very cute, I love it! It is just like the picture.  I got the pink one and so happy I got it!                                                                                                                                                                                                                                                                                                                                                                                                                                                                                                   |10 20, 2014|A3HN0SRHP9HAPR|Hannah               |No summary provided|1413763200    |false   |5   |\n",
      "|B001321FX0|2.0    |The holster did everything it was supposed to do except last . The belt clip seperated from the holster within three days .                                                                                                                                                                                                                                                                                                                                                                                                                                                                        |01 9, 2010 |A1S1GNW6PFG47O|Michael R. Carey     |No summary provided|1262995200    |true    |null|\n",
      "|B001588SHI|4.0    |GREAT product!   -                                                                                                                                                                                                                                                                                                                                                                                                                                                                                                                                                                                 |01 28, 2015|A3EYRO1LOI1JR6|Prajnic Healer       |No summary provided|1422403200    |true    |null|\n",
      "|B0015A4TQK|2.0    |Battery was wrong size. Difficult to order.  Appeared to be OK except for the size. I will try to return and see what happens.                                                                                                                                                                                                                                                                                                                                                                                                                                                                     |04 18, 2014|AVT0UV3OZ41US |Jeff Lundy           |No summary provided|1397779200    |true    |null|\n",
      "|B0016JDE34|1.0    |I purchased 4 of these to replace old RAZR V3S that I loved. I was quite disappointed that they couldn't be used to send or receive messages with pictures. I received instructions on returning them and followed them in sending them back to ISRAEL as instructed to only have them not accepting them and then returning the package back to me. This was a $50.25 expense for me. The package returned as unclaimed. So I have not only the expense of the phones and supposedly return shipping with no usable phone for what I wanted. This has been to me a MINUS 5 star experience for me.|08 6, 2015 |ASQ9SWA748JP1 |Donald Hull          |No summary provided|1438819200    |true    |null|\n",
      "|B001IYSKPY|5.0    |  .     ,    5 .      . Very Good.                                                                                                                                                                                                                                                                                                                                                                                                                                                                                                                                                                 |01 23, 2013|A2PO8X1X72HNFU|Solomon FJClub Almaty|No summary provided|1358899200    |true    |null|\n",
      "|B001LXR0BW|4.0    |Overall a great product. Mic was pretty much what I expected(other end could here lots of background noise). Music sounds great, all buttons function, and easy to connect to iPhone. I wear glasses so the headset can be uncomfortable at times, especially above the ears. I didn't think I would like the over ear set but after using these I think I would like to try the over ear set. Great headset overall, listening to music wireless from my iPhone was exactly what I wanted, and that's exactly what I got.                                                                         |03 31, 2011|AZPPSDW8R6ZFE |ObsDev               |No summary provided|1301529600    |true    |null|\n",
      "|B001N4U2ZK|1.0    |The leather was torn. Not what expected                                                                                                                                                                                                                                                                                                                                                                                                                                                                                                                                                            |06 17, 2014|A1PX9MCLR9OM4F|Asim Logan           |No summary provided|1402963200    |true    |2   |\n",
      "|B001U3O1ZG|3.0    |For the price it was okay.  The screen protector doesn't cover the entire screen.  Dont scratch the exposed edges on perimeter.  The cleaning cloths included didn't really clean all that well.                                                                                                                                                                                                                                                                                                                                                                                                   |09 29, 2011|AI1KWCFA1URAK |Billy boy            |No summary provided|1317254400    |true    |null|\n",
      "|B001XXUOQI|5.0    |Works great                                                                                                                                                                                                                                                                                                                                                                                                                                                                                                                                                                                        |01 12, 2015|A3NBQS8MY5X8OF|Eric Byrd            |No summary provided|1421020800    |true    |null|\n",
      "|B0021K4ISC|4.0    |Way better than my old broken radio                                                                                                                                                                                                                                                                                                                                                                                                                                                                                                                                                                |09 4, 2016 |AMKPVXSSZUA5Q |Jeremy Hull          |No summary provided|1472947200    |false   |null|\n",
      "|B0029ZAJ0K|5.0    |Love this old dinosaur.  We have an unlimited plan we've been grandfathered in on since 2002. When our MiFi died and aAssurian couldn't replace the device I was afraid we would be losing our unlimited data.  Thank you for having a replacement.  We use over 100gigs of data a month.  We love this thing.                                                                                                                                                                                                                                                                                     |04 16, 2015|A1N5CLHH0MNNYF|Sassieluvs           |No summary provided|1429142400    |true    |2   |\n",
      "+----------+-------+---------------------------------------------------------------------------------------------------------------------------------------------------------------------------------------------------------------------------------------------------------------------------------------------------------------------------------------------------------------------------------------------------------------------------------------------------------------------------------------------------------------------------------------------------------------------------------------------------+-----------+--------------+---------------------+-------------------+--------------+--------+----+\n",
      "only showing top 20 rows\n",
      "\n"
     ]
    },
    {
     "name": "stderr",
     "output_type": "stream",
     "text": [
      "                                                                                \r"
     ]
    }
   ],
   "source": [
    "# Displaying some records with the placeholder summary\n",
    "df.filter(df[\"summary\"] == \"No summary provided\").show(truncate=False)\n"
   ]
  },
  {
   "cell_type": "markdown",
   "metadata": {},
   "source": [
    "### Dropping the 'vote' Column\n",
    "Given the substantial number of missing entries in the `vote` column (9,373,510 entries to be exact), and considering the fact that most reviews did not receive any votes, it might be optimal to drop this column.\n"
   ]
  },
  {
   "cell_type": "code",
   "execution_count": 14,
   "metadata": {},
   "outputs": [],
   "source": [
    "# Dropping the 'vote' column from the DataFrame\n",
    "df = df.drop(\"vote\")\n"
   ]
  },
  {
   "cell_type": "markdown",
   "metadata": {},
   "source": [
    "The 'vote' column has been successfully dropped from the dataset. We can confirm this by inspecting the DataFrame's columns.\n"
   ]
  },
  {
   "cell_type": "code",
   "execution_count": 15,
   "metadata": {},
   "outputs": [
    {
     "data": {
      "text/plain": [
       "['asin',\n",
       " 'overall',\n",
       " 'reviewText',\n",
       " 'reviewTime',\n",
       " 'reviewerID',\n",
       " 'reviewerName',\n",
       " 'summary',\n",
       " 'unixReviewTime',\n",
       " 'verified']"
      ]
     },
     "execution_count": 15,
     "metadata": {},
     "output_type": "execute_result"
    }
   ],
   "source": [
    "# Displaying the DataFrame's columns\n",
    "df.columns\n"
   ]
  },
  {
   "cell_type": "markdown",
   "metadata": {},
   "source": [
    "## Data Transformation and Feature Engineering\n",
    "\n",
    "Next, we'll engineer some features that might be useful for our analysis and models.\n"
   ]
  },
  {
   "cell_type": "markdown",
   "metadata": {},
   "source": [
    "Text Length Features\n",
    "\n",
    "Given that the length of reviews or their summaries might provide insights into the depth or detail of the review, we will create new features to represent the length of the reviewText and summary for each entry. By doing so, we might be able to discern patterns or correlations between review length and other factors like sentiment, product rating, or verification status."
   ]
  },
  {
   "cell_type": "code",
   "execution_count": 16,
   "metadata": {},
   "outputs": [],
   "source": [
    "df = df.withColumn(\"reviewText_length\", F.length(df[\"reviewText\"]))\n",
    "df = df.withColumn(\"summary_length\", F.length(df[\"summary\"]))"
   ]
  },
  {
   "cell_type": "markdown",
   "metadata": {},
   "source": [
    "Results of Text Length Feature Creation\n",
    "\n",
    "Two new columns, reviewText_length and summary_length, have been added to the DataFrame. These columns represent the character length of the reviewText and summary respectively. With these new features, we can now analyze if the length of reviews or summaries has any bearing on the overall sentiment, the product's average rating, or any other factor we deem relevant."
   ]
  },
  {
   "cell_type": "code",
   "execution_count": 17,
   "metadata": {},
   "outputs": [
    {
     "name": "stdout",
     "output_type": "stream",
     "text": [
      "+-----------------------------------------------------------------------------------------------------------------------------------------------------------------------------------------------------------------------------------------------------------------------------------------------------------------------------------------------------------------------------------------------------------------------------------------------------------------------------------------------------------------------------------------------------------------------------------------------------------------------------------------------------------------------------------------------+-----------------+---------------------------------------------------------------------------------------------+--------------+\n",
      "|reviewText                                                                                                                                                                                                                                                                                                                                                                                                                                                                                                                                                                                                                                                                                     |reviewText_length|summary                                                                                      |summary_length|\n",
      "+-----------------------------------------------------------------------------------------------------------------------------------------------------------------------------------------------------------------------------------------------------------------------------------------------------------------------------------------------------------------------------------------------------------------------------------------------------------------------------------------------------------------------------------------------------------------------------------------------------------------------------------------------------------------------------------------------+-----------------+---------------------------------------------------------------------------------------------+--------------+\n",
      "|If your into space this is the Calendar for you.                                                                                                                                                                                                                                                                                                                                                                                                                                                                                                                                                                                                                                               |48               |Five Stars                                                                                   |10            |\n",
      "|Awesome pictures!                                                                                                                                                                                                                                                                                                                                                                                                                                                                                                                                                                                                                                                                              |17               |Five Stars                                                                                   |10            |\n",
      "|Great wall art and information for space exploration minded people.                                                                                                                                                                                                                                                                                                                                                                                                                                                                                                                                                                                                                            |67               |Five Stars                                                                                   |10            |\n",
      "|As always, it is a quality calendar full of very interesting space-related photos and information.  I love it.  I buy a new one every year.                                                                                                                                                                                                                                                                                                                                                                                                                                                                                                                                                    |139              |I love it. I buy a new one every year                                                        |37            |\n",
      "|This is a fantastic calendar. This is my third year purchasing it. It is sturdy and well put together and has a bunch of awesome information in it.                                                                                                                                                                                                                                                                                                                                                                                                                                                                                                                                            |147              |Great Calendar.                                                                              |15            |\n",
      "|It's great, I get it every year.                                                                                                                                                                                                                                                                                                                                                                                                                                                                                                                                                                                                                                                               |32               |Awesome Calendar                                                                             |16            |\n",
      "|2015 will be my 3rd year, looking forward to it! I always enjoy flipping toothed next month. The desk calendar is also great.                                                                                                                                                                                                                                                                                                                                                                                                                                                                                                                                                                  |125              |Great calendar!                                                                              |15            |\n",
      "|My son loves this every year!                                                                                                                                                                                                                                                                                                                                                                                                                                                                                                                                                                                                                                                                  |29               |Five Stars                                                                                   |10            |\n",
      "|A great calendar for the space or science enthusiast.  Ever month includes lots of wonderful astonomical photographs and interesting information on verious astonomical subjects.                                                                                                                                                                                                                                                                                                                                                                                                                                                                                                              |177              |Great Calendar for Space Fans                                                                |29            |\n",
      "|Lots and lots of info                                                                                                                                                                                                                                                                                                                                                                                                                                                                                                                                                                                                                                                                          |21               |Five Stars                                                                                   |10            |\n",
      "|I love all the space facts that this calendar has, one of the best space calendars that I have found.                                                                                                                                                                                                                                                                                                                                                                                                                                                                                                                                                                                          |101              |I love all the space facts that this calendar has                                            |49            |\n",
      "|Hung it in a high school class room. Big hit with the students                                                                                                                                                                                                                                                                                                                                                                                                                                                                                                                                                                                                                                 |62               |Five Stars                                                                                   |10            |\n",
      "|This is a must for every astronomy lover it has beautiful pictures and lot of other information too.                                                                                                                                                                                                                                                                                                                                                                                                                                                                                                                                                                                           |100              |A must for astronomy lovers                                                                  |27            |\n",
      "|Nice printing. Lovely images. Useful information.                                                                                                                                                                                                                                                                                                                                                                                                                                                                                                                                                                                                                                              |49               |Great & interesting calendar                                                                 |28            |\n",
      "|Very nice and delivered in a box which kept the calendar flat and un-creased and new. Nice pictures and detail.                                                                                                                                                                                                                                                                                                                                                                                                                                                                                                                                                                                |111              |Nice wall calendar that i will enjoy and is also good for work                               |62            |\n",
      "|I have been buying this, and the desk calendar as well, for years. It is beautifully done, filled with interesting facts and easy to use. I would recommend it to anyone.                                                                                                                                                                                                                                                                                                                                                                                                                                                                                                                      |169              |It is beautifully done, filled with interesting facts and easy to ...                        |69            |\n",
      "|Each page is full of great info. Great addition for space enthusiast.                                                                                                                                                                                                                                                                                                                                                                                                                                                                                                                                                                                                                          |69               |Visual eye candy...                                                                          |19            |\n",
      "|One of the coolest purchases I've ever made. I'll absolutely be getting next year's calendar as well. All the extra cool facts and information about everything space-related make every day interesting. There are even \"this day in space history\" tidbits on most squares, moon phase indicators on every day, monthly sky guides for viewing various planets and other interesting celestial bodies, and even coordinates for telescopes. You'll learn something new every day for sure if you have this calendar! 10/10, would absolutely reccomend                                                                                                                                       |536              |All the extra cool facts and information about everything space-related make every day ...   |90            |\n",
      "|Great pictures and useful information.                                                                                                                                                                                                                                                                                                                                                                                                                                                                                                                                                                                                                                                         |38               |Five Stars                                                                                   |10            |\n",
      "|This thing is Big!  It's a bunch of beautiful space photos.  We belong in Space.  Going there is more money than I care to spend, more than I could ever afford, and likely more than I can crowdfund.  This shows your support for space activities.  As always, exploration pays back way more than it costs, and this calendar helps support people who believe in the future as limitless, not a place to hide but a place to rush toward.\\n\\nMaybe the Affordable Space Travel Act will make it free.  Then we can all go there several times a year, right?  I can't wait. But I have to, so for the moment I have a gorgeous calendar on my wall.\\n\\nBuy it.  You won't be disappointed.|667              |Not all Who Wander are Lost (Jrr Tolkien).  If you think we belong in space, this is for you.|93            |\n",
      "+-----------------------------------------------------------------------------------------------------------------------------------------------------------------------------------------------------------------------------------------------------------------------------------------------------------------------------------------------------------------------------------------------------------------------------------------------------------------------------------------------------------------------------------------------------------------------------------------------------------------------------------------------------------------------------------------------+-----------------+---------------------------------------------------------------------------------------------+--------------+\n",
      "only showing top 20 rows\n",
      "\n"
     ]
    }
   ],
   "source": [
    "# Displaying the first few rows, focusing on new columns\n",
    "df.select(\"reviewText\", \"reviewText_length\", \"summary\", \"summary_length\").show(truncate=False)\n"
   ]
  },
  {
   "cell_type": "markdown",
   "metadata": {},
   "source": [
    "## Temporal Features\n",
    "\n",
    "The `unixReviewTime` column represents the timestamp of the review. We can derive multiple features from this single timestamp. One immediate conversion is to represent this timestamp in a more human-readable format.\n"
   ]
  },
  {
   "cell_type": "code",
   "execution_count": 18,
   "metadata": {},
   "outputs": [
    {
     "name": "stdout",
     "output_type": "stream",
     "text": [
      "+--------------+----------+\n",
      "|unixReviewTime|reviewDate|\n",
      "+--------------+----------+\n",
      "|    1416355200|2014-11-18|\n",
      "|    1416355200|2014-11-18|\n",
      "|    1416355200|2014-11-18|\n",
      "|    1416355200|2014-11-18|\n",
      "|    1416355200|2014-11-18|\n",
      "|    1416355200|2014-11-18|\n",
      "|    1416355200|2014-11-18|\n",
      "|    1416355200|2014-11-18|\n",
      "|    1424390400|2015-02-19|\n",
      "|    1423785600|2015-02-12|\n",
      "|    1423440000|2015-02-08|\n",
      "|    1423267200|2015-02-06|\n",
      "|    1422835200|2015-02-01|\n",
      "|    1422748800|2015-01-31|\n",
      "|    1422316800|2015-01-26|\n",
      "|    1422316800|2015-01-26|\n",
      "|    1421971200|2015-01-22|\n",
      "|    1421884800|2015-01-21|\n",
      "|    1421884800|2015-01-21|\n",
      "|    1421712000|2015-01-19|\n",
      "+--------------+----------+\n",
      "only showing top 20 rows\n",
      "\n"
     ]
    }
   ],
   "source": [
    "from pyspark.sql.functions import from_unixtime\n",
    "\n",
    "# Convert unixReviewTime to a readable date format\n",
    "df = df.withColumn(\"reviewDate\", from_unixtime(\"unixReviewTime\").cast(\"date\"))\n",
    "\n",
    "# Display the first few rows to verify\n",
    "df.select(\"unixReviewTime\", \"reviewDate\").show()\n"
   ]
  },
  {
   "cell_type": "markdown",
   "metadata": {},
   "source": [
    "The above code transforms the `unixReviewTime` into a more readable date format stored in the `reviewDate` column. This new column will be helpful in understanding the distribution of reviews over time and can be used to create further temporal features if needed.\n"
   ]
  },
  {
   "cell_type": "markdown",
   "metadata": {},
   "source": [
    "## Day of the Week Feature\n",
    "\n",
    "Understanding the day of the week when a review was written can be insightful. For instance, there might be patterns indicating that users are more likely to write reviews on weekends or certain weekdays. Let's extract the day of the week from our `reviewDate` column.\n"
   ]
  },
  {
   "cell_type": "code",
   "execution_count": 19,
   "metadata": {},
   "outputs": [
    {
     "name": "stdout",
     "output_type": "stream",
     "text": [
      "+----------+-----------+\n",
      "|reviewDate|day_of_week|\n",
      "+----------+-----------+\n",
      "|2014-11-18|    Tuesday|\n",
      "|2014-11-18|    Tuesday|\n",
      "|2014-11-18|    Tuesday|\n",
      "|2014-11-18|    Tuesday|\n",
      "|2014-11-18|    Tuesday|\n",
      "|2014-11-18|    Tuesday|\n",
      "|2014-11-18|    Tuesday|\n",
      "|2014-11-18|    Tuesday|\n",
      "|2015-02-19|   Thursday|\n",
      "|2015-02-12|   Thursday|\n",
      "|2015-02-08|     Sunday|\n",
      "|2015-02-06|     Friday|\n",
      "|2015-02-01|     Sunday|\n",
      "|2015-01-31|   Saturday|\n",
      "|2015-01-26|     Monday|\n",
      "|2015-01-26|     Monday|\n",
      "|2015-01-22|   Thursday|\n",
      "|2015-01-21|  Wednesday|\n",
      "|2015-01-21|  Wednesday|\n",
      "|2015-01-19|     Monday|\n",
      "+----------+-----------+\n",
      "only showing top 20 rows\n",
      "\n"
     ]
    }
   ],
   "source": [
    "from pyspark.sql.functions import dayofweek, date_format\n",
    "\n",
    "# Extracting day of the week\n",
    "df = df.withColumn(\"day_of_week\", date_format(\"reviewDate\", \"EEEE\"))\n",
    "\n",
    "# Displaying the first few rows to verify\n",
    "df.select(\"reviewDate\", \"day_of_week\").show()\n"
   ]
  },
  {
   "cell_type": "markdown",
   "metadata": {},
   "source": [
    "The `day_of_week` column now represents the day of the week derived from the `reviewDate`. This can be used for aggregations to understand the distribution of reviews across different days of the week.\n"
   ]
  },
  {
   "cell_type": "markdown",
   "metadata": {},
   "source": [
    "## Sentiment Analysis Feature\n",
    "\n",
    "The sentiment of a review can provide valuable insights into user satisfaction. Using the \"overall\" score, we'll classify each review's sentiment as:\n",
    "- **Positive**: for scores greater than 3\n",
    "- **Neutral**: for a score of 3\n",
    "- **Negative**: for scores less than 3\n"
   ]
  },
  {
   "cell_type": "code",
   "execution_count": 20,
   "metadata": {},
   "outputs": [
    {
     "name": "stdout",
     "output_type": "stream",
     "text": [
      "+-------+---------+\n",
      "|overall|sentiment|\n",
      "+-------+---------+\n",
      "|    5.0| Positive|\n",
      "|    5.0| Positive|\n",
      "|    5.0| Positive|\n",
      "|    5.0| Positive|\n",
      "|    5.0| Positive|\n",
      "|    5.0| Positive|\n",
      "|    5.0| Positive|\n",
      "|    5.0| Positive|\n",
      "|    5.0| Positive|\n",
      "|    5.0| Positive|\n",
      "|    5.0| Positive|\n",
      "|    5.0| Positive|\n",
      "|    5.0| Positive|\n",
      "|    5.0| Positive|\n",
      "|    5.0| Positive|\n",
      "|    5.0| Positive|\n",
      "|    5.0| Positive|\n",
      "|    5.0| Positive|\n",
      "|    5.0| Positive|\n",
      "|    5.0| Positive|\n",
      "+-------+---------+\n",
      "only showing top 20 rows\n",
      "\n"
     ]
    }
   ],
   "source": [
    "from pyspark.sql.functions import when\n",
    "\n",
    "# Classifying sentiment based on 'overall' score\n",
    "df = df.withColumn(\"sentiment\", \n",
    "                   when(df[\"overall\"] > 3, \"Positive\")\n",
    "                   .when(df[\"overall\"] == 3, \"Neutral\")\n",
    "                   .otherwise(\"Negative\"))\n",
    "\n",
    "# Displaying the first few rows to verify\n",
    "df.select(\"overall\", \"sentiment\").show()\n"
   ]
  },
  {
   "cell_type": "markdown",
   "metadata": {},
   "source": [
    "The `sentiment` column provides a classification of each review based on its \"overall\" score. This categorization can be used for various analyses, such as understanding the distribution of sentiments across the dataset or analyzing trends over time.\n"
   ]
  },
  {
   "cell_type": "markdown",
   "metadata": {},
   "source": [
    "## Aggregate Features\n",
    "\n",
    "Aggregating data at the product level can help identify products that are popular, highly rated, or have potential issues. In this section, we'll compute:\n",
    "- **Average Rating**: The mean of the \"overall\" score for each product.\n",
    "- **Review Count**: The total number of reviews each product has received.\n"
   ]
  },
  {
   "cell_type": "code",
   "execution_count": 21,
   "metadata": {},
   "outputs": [
    {
     "name": "stderr",
     "output_type": "stream",
     "text": [
      "[Stage 12:====================================================>   (33 + 2) / 35]\r"
     ]
    },
    {
     "name": "stdout",
     "output_type": "stream",
     "text": [
      "+----------+-------+------------------+------------+\n",
      "|      asin|overall|        avg_rating|review_count|\n",
      "+----------+-------+------------------+------------+\n",
      "|B0046C9G2G|    3.0|               3.0|           1|\n",
      "|B009OUAVOC|    1.0|               1.0|           1|\n",
      "|B00HDQD40M|    5.0| 4.388888888888889|         126|\n",
      "|B00HDQD40M|    3.0| 4.388888888888889|         126|\n",
      "|B00HDQD40M|    3.0| 4.388888888888889|         126|\n",
      "|B00HDQD40M|    5.0| 4.388888888888889|         126|\n",
      "|B00HDQD40M|    4.0| 4.388888888888889|         126|\n",
      "|B00HDQD40M|    5.0| 4.388888888888889|         126|\n",
      "|B00HDQD40M|    5.0| 4.388888888888889|         126|\n",
      "|B00HDQD40M|    5.0| 4.388888888888889|         126|\n",
      "|B00HDQD40M|    5.0| 4.388888888888889|         126|\n",
      "|B00HDQD40M|    5.0| 4.388888888888889|         126|\n",
      "|B00HDQD40M|    2.0| 4.388888888888889|         126|\n",
      "|B00HDQD40M|    4.0| 4.388888888888889|         126|\n",
      "|B00HDQD40M|    5.0| 4.388888888888889|         126|\n",
      "|B00HDRBELC|    3.0|1.9444444444444444|          18|\n",
      "|B00HDRBELC|    3.0|1.9444444444444444|          18|\n",
      "|B00HDRBELC|    1.0|1.9444444444444444|          18|\n",
      "|B00HDRBELC|    1.0|1.9444444444444444|          18|\n",
      "|B00HDRBELC|    1.0|1.9444444444444444|          18|\n",
      "+----------+-------+------------------+------------+\n",
      "only showing top 20 rows\n",
      "\n"
     ]
    },
    {
     "name": "stderr",
     "output_type": "stream",
     "text": [
      "                                                                                \r"
     ]
    }
   ],
   "source": [
    "from pyspark.sql import functions as F\n",
    "\n",
    "# Group by 'asin' and compute aggregate features\n",
    "product_aggregates = (df.groupBy(\"asin\")\n",
    "                      .agg(F.avg(\"overall\").alias(\"avg_rating\"), \n",
    "                           F.count(\"*\").alias(\"review_count\")))\n",
    "\n",
    "# Joining the aggregates back to the main dataframe\n",
    "df = df.join(product_aggregates, on=\"asin\", how=\"left\")\n",
    "\n",
    "# Displaying the first few rows to verify\n",
    "df.select(\"asin\", \"overall\", \"avg_rating\", \"review_count\").show()\n"
   ]
  },
  {
   "cell_type": "markdown",
   "metadata": {},
   "source": [
    "The new columns `avg_rating` and `review_count` provide aggregated data for each product. This information can be useful to gauge the overall sentiment towards a product and its popularity among reviewers.\n"
   ]
  },
  {
   "cell_type": "markdown",
   "metadata": {},
   "source": [
    "## Boolean Features\n",
    "\n",
    "Often, categorical features with two categories (e.g., Yes/No or True/False) can be represented as binary features for simplicity and ease of analysis. For this dataset, the \"verified\" column indicates whether a review is verified or not. We'll convert this into a binary feature.\n"
   ]
  },
  {
   "cell_type": "code",
   "execution_count": 22,
   "metadata": {},
   "outputs": [
    {
     "name": "stdout",
     "output_type": "stream",
     "text": [
      "+--------+-----------+\n",
      "|verified|is_verified|\n",
      "+--------+-----------+\n",
      "|   false|          0|\n",
      "|   false|          0|\n",
      "|   false|          0|\n",
      "|   false|          0|\n",
      "|   false|          0|\n",
      "|   false|          0|\n",
      "|   false|          0|\n",
      "|   false|          0|\n",
      "|    true|          1|\n",
      "|    true|          1|\n",
      "|    true|          1|\n",
      "|    true|          1|\n",
      "|    true|          1|\n",
      "|    true|          1|\n",
      "|    true|          1|\n",
      "|   false|          0|\n",
      "|    true|          1|\n",
      "|    true|          1|\n",
      "|    true|          1|\n",
      "|    true|          1|\n",
      "+--------+-----------+\n",
      "only showing top 20 rows\n",
      "\n"
     ]
    }
   ],
   "source": [
    "# Convert 'verified' column to binary feature (1 for True, 0 for False)\n",
    "df = df.withColumn(\"is_verified\", F.when(df[\"verified\"] == True, 1).otherwise(0))\n",
    "\n",
    "# Displaying the first few rows to verify\n",
    "df.select(\"verified\", \"is_verified\").show()\n"
   ]
  },
  {
   "cell_type": "markdown",
   "metadata": {},
   "source": [
    "The new `is_verified` column represents whether a review is verified in a binary format. This transformation simplifies the representation and can be directly used in analytical models.\n"
   ]
  },
  {
   "cell_type": "markdown",
   "metadata": {},
   "source": [
    "## Saving Transformed Data\n",
    "\n",
    "After all the data transformations and feature engineering, it's crucial to save the processed data. This will facilitate efficient retrieval in the subsequent steps of our analysis and modeling without the need to re-run all preprocessing steps.\n"
   ]
  },
  {
   "cell_type": "code",
   "execution_count": 23,
   "metadata": {},
   "outputs": [
    {
     "name": "stderr",
     "output_type": "stream",
     "text": [
      "23/10/30 18:20:00 WARN MemoryManager: Total allocation exceeds 95.00% (906,992,014 bytes) of heap memory\n",
      "Scaling row group sizes to 96.54% for 7 writers\n",
      "23/10/30 18:20:00 WARN MemoryManager: Total allocation exceeds 95.00% (906,992,014 bytes) of heap memory\n",
      "Scaling row group sizes to 84.47% for 8 writers\n",
      "23/10/30 18:20:07 WARN MemoryManager: Total allocation exceeds 95.00% (906,992,014 bytes) of heap memory\n",
      "Scaling row group sizes to 96.54% for 7 writers\n",
      "23/10/30 18:20:10 WARN MemoryManager: Total allocation exceeds 95.00% (906,992,014 bytes) of heap memory\n",
      "Scaling row group sizes to 96.54% for 7 writers\n",
      "23/10/30 18:20:10 WARN MemoryManager: Total allocation exceeds 95.00% (906,992,014 bytes) of heap memory\n",
      "Scaling row group sizes to 84.47% for 8 writers\n",
      "23/10/30 18:20:15 WARN MemoryManager: Total allocation exceeds 95.00% (906,992,014 bytes) of heap memory\n",
      "Scaling row group sizes to 96.54% for 7 writers\n",
      "23/10/30 18:20:17 WARN MemoryManager: Total allocation exceeds 95.00% (906,992,014 bytes) of heap memory\n",
      "Scaling row group sizes to 96.54% for 7 writers\n",
      "23/10/30 18:20:17 WARN MemoryManager: Total allocation exceeds 95.00% (906,992,014 bytes) of heap memory\n",
      "Scaling row group sizes to 84.47% for 8 writers\n",
      "23/10/30 18:20:21 WARN MemoryManager: Total allocation exceeds 95.00% (906,992,014 bytes) of heap memory\n",
      "Scaling row group sizes to 96.54% for 7 writers\n",
      "23/10/30 18:20:23 WARN MemoryManager: Total allocation exceeds 95.00% (906,992,014 bytes) of heap memory\n",
      "Scaling row group sizes to 96.54% for 7 writers\n",
      "23/10/30 18:20:23 WARN MemoryManager: Total allocation exceeds 95.00% (906,992,014 bytes) of heap memory\n",
      "Scaling row group sizes to 84.47% for 8 writers\n",
      "23/10/30 18:20:27 WARN MemoryManager: Total allocation exceeds 95.00% (906,992,014 bytes) of heap memory\n",
      "Scaling row group sizes to 96.54% for 7 writers\n",
      "23/10/30 18:20:30 WARN MemoryManager: Total allocation exceeds 95.00% (906,992,014 bytes) of heap memory\n",
      "Scaling row group sizes to 96.54% for 7 writers\n",
      "23/10/30 18:20:30 WARN MemoryManager: Total allocation exceeds 95.00% (906,992,014 bytes) of heap memory\n",
      "Scaling row group sizes to 84.47% for 8 writers\n",
      "23/10/30 18:20:33 WARN MemoryManager: Total allocation exceeds 95.00% (906,992,014 bytes) of heap memory\n",
      "Scaling row group sizes to 96.54% for 7 writers\n",
      "                                                                                \r"
     ]
    }
   ],
   "source": [
    "# Define the path to save the processed data\n",
    "save_path = \"/Users/ivanozono/Proyects/big-data-cellphones-analysis/data_amazon/processed\"\n",
    "\n",
    "# Save the DataFrame in Parquet format (recommended for Spark)\n",
    "df.write.parquet(save_path, mode=\"overwrite\")\n"
   ]
  },
  {
   "cell_type": "markdown",
   "metadata": {},
   "source": [
    "The transformed data has been successfully saved to the \"processed\" directory in Parquet format. This format is columnar and optimized for big data processing tasks with Spark. Now, this processed dataset can be directly loaded for further analysis and modeling in the subsequent stages of our project.\n"
   ]
  },
  {
   "cell_type": "markdown",
   "metadata": {},
   "source": [
    "## Concluding Remarks\n",
    "\n",
    "Throughout this notebook, we embarked on a crucial journey in the realm of data processing and feature engineering. Starting with a raw dataset, we:\n",
    "\n",
    "1. **Addressed Missing Values**: By making informed decisions based on the data's context, we ensured our dataset is more robust and less prone to biases that might arise from missing information.\n",
    "2. **Engineered Features**: These new features, derived from existing columns, enhance the dataset's richness and provide more dimensions for analysis.\n",
    "3. **Transformed Data**: By converting, categorizing, and aggregating, we molded the data into a more digestible and analyzable format.\n",
    "4. **Stored Processed Data**: By saving our progress, we've created a checkpoint. This allows for efficient retrieval in subsequent analyses, ensuring reproducibility and saving time.\n",
    "\n",
    "The steps taken here lay the foundation for deeper analysis, visualization, and modeling. With a cleaned and enriched dataset, we are better equipped to extract meaningful insights and build predictive models in the subsequent phases of our project.\n",
    "\n",
    "Up next, in our project journey, we might explore data visualization to understand patterns, trends, and anomalies, or delve straight into building predictive models. \n"
   ]
  }
 ],
 "metadata": {
  "kernelspec": {
   "display_name": "env",
   "language": "python",
   "name": "python3"
  },
  "language_info": {
   "codemirror_mode": {
    "name": "ipython",
    "version": 3
   },
   "file_extension": ".py",
   "mimetype": "text/x-python",
   "name": "python",
   "nbconvert_exporter": "python",
   "pygments_lexer": "ipython3",
   "version": "3.10.10"
  }
 },
 "nbformat": 4,
 "nbformat_minor": 2
}

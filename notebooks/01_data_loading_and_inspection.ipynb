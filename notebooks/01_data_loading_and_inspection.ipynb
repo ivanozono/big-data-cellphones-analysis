{
 "cells": [
  {
   "cell_type": "markdown",
   "metadata": {},
   "source": [
    "# Data Loading and Inspection\n",
    "\n",
    "In this notebook, we'll focus on loading the cell phones dataset and conducting an initial inspection to understand its structure, content, and potential challenges for analysis.\n"
   ]
  },
  {
   "cell_type": "markdown",
   "metadata": {},
   "source": [
    "### Initializing SparkSession\n",
    "\n",
    "To work with Spark in this notebook, we need to initialize a `SparkSession`, which serves as the entry point for any functionality in Spark.\n",
    "\n",
    "- `appName(\"Cell_Phones_Analysis\")`: This assigns a name to our SparkSession, which is helpful for identifying it in the Spark UI.\n",
    "- `getOrCreate()`: This method retrieves an existing SparkSession if one already exists, or creates a new one if none exists.\n"
   ]
  },
  {
   "cell_type": "code",
   "execution_count": 1,
   "metadata": {},
   "outputs": [
    {
     "name": "stderr",
     "output_type": "stream",
     "text": [
      "23/10/30 12:34:03 WARN Utils: Your hostname, MacBook-Air-de-Ivan.local resolves to a loopback address: 127.0.0.1; using 192.168.0.10 instead (on interface en0)\n",
      "23/10/30 12:34:03 WARN Utils: Set SPARK_LOCAL_IP if you need to bind to another address\n",
      "Setting default log level to \"WARN\".\n",
      "To adjust logging level use sc.setLogLevel(newLevel). For SparkR, use setLogLevel(newLevel).\n",
      "23/10/30 12:34:04 WARN NativeCodeLoader: Unable to load native-hadoop library for your platform... using builtin-java classes where applicable\n"
     ]
    }
   ],
   "source": [
    "from pyspark.sql import SparkSession\n",
    "\n",
    "spark = SparkSession.builder \\\n",
    "    .appName(\"Cell_Phones_Analysis\") \\\n",
    "    .getOrCreate()\n"
   ]
  },
  {
   "cell_type": "markdown",
   "metadata": {},
   "source": [
    "### Loading the Dataset\n",
    "\n",
    "In this section:\n",
    "\n",
    "- We specify the path to our JSON data file, which contains information about cell phones and accessories.\n",
    "- We then use Spark's `read.json` method to load this data into a DataFrame, `df`, for further processing and analysis.\n"
   ]
  },
  {
   "cell_type": "code",
   "execution_count": 2,
   "metadata": {},
   "outputs": [
    {
     "name": "stderr",
     "output_type": "stream",
     "text": [
      "23/10/30 12:34:52 WARN package: Truncated the string representation of a plan since it was too large. This behavior can be adjusted by setting 'spark.sql.debug.maxToStringFields'.\n"
     ]
    }
   ],
   "source": [
    "# Load the JSON file\n",
    "path_to_json = \"../data_amazon/Cell_Phones_and_Accessories.json\"\n",
    "\n",
    "# Load the dataset\n",
    "df = spark.read.json(path_to_json)\n",
    "\n"
   ]
  },
  {
   "cell_type": "markdown",
   "metadata": {},
   "source": [
    "\n",
    "### Previewing the Dataset\n",
    "\n",
    "In this section, we use the `show()` method to:\n",
    "- Display the first few rows of our DataFrame, `df`.\n",
    "- Gain a quick overview of the data's structure and content.\n"
   ]
  },
  {
   "cell_type": "code",
   "execution_count": 3,
   "metadata": {},
   "outputs": [
    {
     "name": "stdout",
     "output_type": "stream",
     "text": [
      "+----------+-----+-------+--------------------+-----------+--------------+--------------------+-----+--------------------+--------------+--------+----+\n",
      "|      asin|image|overall|          reviewText| reviewTime|    reviewerID|        reviewerName|style|             summary|unixReviewTime|verified|vote|\n",
      "+----------+-----+-------+--------------------+-----------+--------------+--------------------+-----+--------------------+--------------+--------+----+\n",
      "|098949232X| null|    5.0|If your into spac...|11 19, 2014|A1GG51FWU0XQYH|       Paul Williams| null|          Five Stars|    1416355200|   false|null|\n",
      "|098949232X| null|    5.0|   Awesome pictures!|11 19, 2014| AVFIDS9RK38E0|         Sean Powell| null|          Five Stars|    1416355200|   false|null|\n",
      "|098949232X| null|    5.0|Great wall art an...|11 19, 2014|A2S4AVR5SJ7KMI|           Tom Davis| null|          Five Stars|    1416355200|   false|null|\n",
      "|098949232X| null|    5.0|As always, it is ...|11 19, 2014| AEMMMVOR9BFLI|            Kwajmeck| null|I love it. I buy ...|    1416355200|   false|null|\n",
      "|098949232X| null|    5.0|This is a fantast...|11 19, 2014|A2DZXMBTY7KLYP|            ScottG43| null|     Great Calendar.|    1416355200|   false|null|\n",
      "|098949232X| null|    5.0|It's great, I get...|11 19, 2014| AUD367H6I25FX|  Michael Lee Warren| null|    Awesome Calendar|    1416355200|   false|null|\n",
      "|098949232X| null|    5.0|2015 will be my 3...|11 19, 2014|A3K6KUWAZ6SWHE|Daniel Alexander ...| null|     Great calendar!|    1416355200|   false|null|\n",
      "|098949232X| null|    5.0|My son loves this...|11 19, 2014|A1FPEO0ME9G4VY|           B. Willey| null|          Five Stars|    1416355200|   false|null|\n",
      "|098949232X| null|    5.0|A great calendar ...|02 20, 2015|A20AOY7UXJA710|           Michael D| null|Great Calendar fo...|    1424390400|    true|null|\n",
      "|098949232X| null|    5.0|Lots and lots of ...|02 13, 2015|A222LHL23AH0GK|               Nancy| null|          Five Stars|    1423785600|    true|null|\n",
      "|098949232X| null|    5.0|I love all the sp...| 02 9, 2015| AZSP9XAX38DG0|    Kristina Edwards| null|I love all the sp...|    1423440000|    true|null|\n",
      "|098949232X| null|    5.0|Hung it in a high...| 02 7, 2015|A1N5IO8FW9EE6R|         Becky Green| null|          Five Stars|    1423267200|    true|null|\n",
      "|098949232X| null|    5.0|This is a must fo...| 02 2, 2015|A1QI7X0NQ1PUHD|             Jason D| null|A must for astron...|    1422835200|    true|null|\n",
      "|098949232X| null|    5.0|Nice printing. Lo...| 02 1, 2015|A3SF5P30FK4Y5Y|              _pjjs_| null|Great & interesti...|    1422748800|    true|null|\n",
      "|098949232X| null|    5.0|Very nice and del...|01 27, 2015|A3KZZYLU5VT4VJ|            HighTech| null|Nice wall calenda...|    1422316800|    true|null|\n",
      "|098949232X| null|    5.0|I have been buyin...|01 27, 2015| ALK31UO248EH1|      Wendy Behrbaum| null|It is beautifully...|    1422316800|   false|null|\n",
      "|098949232X| null|    5.0|Each page is full...|01 23, 2015| AP5I1RWKMQ6BT|        M. J. Bailey| null| Visual eye candy...|    1421971200|    true|null|\n",
      "|098949232X| null|    5.0|One of the cooles...|01 22, 2015|A1TKWOUJB8OE8T|       Mike Stauffer| null|All the extra coo...|    1421884800|    true|null|\n",
      "|098949232X| null|    5.0|Great pictures an...|01 22, 2015|A1VKQUQJHJRA3F|           Ian Dorge| null|          Five Stars|    1421884800|    true|null|\n",
      "|098949232X| null|    5.0|This thing is Big...|01 20, 2015| A1399ZMDHQ1YH|                Wino| null|Not all Who Wande...|    1421712000|    true|null|\n",
      "+----------+-----+-------+--------------------+-----------+--------------+--------------------+-----+--------------------+--------------+--------+----+\n",
      "only showing top 20 rows\n",
      "\n"
     ]
    }
   ],
   "source": [
    "# Display the first few rows of the DataFrame\n",
    "df.show()\n",
    "\n"
   ]
  },
  {
   "cell_type": "markdown",
   "metadata": {},
   "source": [
    "### DataFrame Preview\n",
    "\n",
    "The table below showcases the first few rows of our dataset. This provides a snapshot of the data structure, giving us insight into the columns available and the type of information stored in each column:\n",
    "\n",
    "- `asin`: Amazon Standard Identification Number.\n",
    "- `image`: URL for the product's image (if available).\n",
    "- `overall`: Rating given to the product.\n",
    "- `reviewText`: Text of the review provided by the user.\n",
    "- `reviewTime`: Date when the review was written.\n",
    "- `reviewerID`: Unique identifier for the reviewer.\n",
    "- `reviewerName`: Name of the reviewer.\n",
    "- `style`: Details about the product's style or variant.\n",
    "- `summary`: A summarized version or title of the review.\n",
    "- `unixReviewTime`: Review time in UNIX timestamp format.\n",
    "- `verified`: Indicates if the review is verified.\n",
    "- `vote`: Number of helpful votes the review received.\n",
    "\n",
    "Note: The table only displays the top 20 rows for brevity.\n"
   ]
  },
  {
   "cell_type": "markdown",
   "metadata": {},
   "source": [
    "### Displaying the Dataset Schema\n",
    "\n",
    "To understand the structure of our data and the types of values each column can hold, we print the schema of our DataFrame. This provides a hierarchical view of the dataset's structure, indicating column names, data types, and any nested structures (if present).\n"
   ]
  },
  {
   "cell_type": "code",
   "execution_count": 4,
   "metadata": {},
   "outputs": [
    {
     "name": "stdout",
     "output_type": "stream",
     "text": [
      "root\n",
      " |-- asin: string (nullable = true)\n",
      " |-- image: array (nullable = true)\n",
      " |    |-- element: string (containsNull = true)\n",
      " |-- overall: double (nullable = true)\n",
      " |-- reviewText: string (nullable = true)\n",
      " |-- reviewTime: string (nullable = true)\n",
      " |-- reviewerID: string (nullable = true)\n",
      " |-- reviewerName: string (nullable = true)\n",
      " |-- style: struct (nullable = true)\n",
      " |    |-- Color Name:: string (nullable = true)\n",
      " |    |-- Color:: string (nullable = true)\n",
      " |    |-- Design:: string (nullable = true)\n",
      " |    |-- Edition:: string (nullable = true)\n",
      " |    |-- Flavor Name:: string (nullable = true)\n",
      " |    |-- Flavor:: string (nullable = true)\n",
      " |    |-- Format:: string (nullable = true)\n",
      " |    |-- Hand Orientation:: string (nullable = true)\n",
      " |    |-- Item Display Length:: string (nullable = true)\n",
      " |    |-- Item Package Quantity:: string (nullable = true)\n",
      " |    |-- Length:: string (nullable = true)\n",
      " |    |-- Material Type:: string (nullable = true)\n",
      " |    |-- Material:: string (nullable = true)\n",
      " |    |-- Metal Type:: string (nullable = true)\n",
      " |    |-- Model:: string (nullable = true)\n",
      " |    |-- Number of Items:: string (nullable = true)\n",
      " |    |-- Offer Type:: string (nullable = true)\n",
      " |    |-- Package Quantity:: string (nullable = true)\n",
      " |    |-- Package Type:: string (nullable = true)\n",
      " |    |-- Pattern:: string (nullable = true)\n",
      " |    |-- Product Packaging:: string (nullable = true)\n",
      " |    |-- Shape:: string (nullable = true)\n",
      " |    |-- Size Name:: string (nullable = true)\n",
      " |    |-- Size:: string (nullable = true)\n",
      " |    |-- Style Name:: string (nullable = true)\n",
      " |    |-- Style:: string (nullable = true)\n",
      " |    |-- Team Name:: string (nullable = true)\n",
      " |-- summary: string (nullable = true)\n",
      " |-- unixReviewTime: long (nullable = true)\n",
      " |-- verified: boolean (nullable = true)\n",
      " |-- vote: string (nullable = true)\n",
      "\n"
     ]
    }
   ],
   "source": [
    "# Print the schema of the DataFrame\n",
    "df.printSchema()\n"
   ]
  },
  {
   "cell_type": "markdown",
   "metadata": {},
   "source": [
    "### Displayed Dataset Overview\n",
    "\n",
    "The displayed output provides a glimpse into the initial rows of our dataset:\n",
    "\n",
    "- We observe various attributes for each product review such as product ID (`asin`), overall rating (`overall`), the text of the review (`reviewText`), and the date the review was made (`reviewTime`), among others.\n",
    "- The schema below the displayed rows further breaks down the structure of our data, detailing each column's name, data type, and any nested structures.\n",
    "- Note the `style` column, which contains nested attributes describing various product features like color, design, and size.\n",
    "- This overview aids in understanding the nature of the data we're working with, setting the stage for subsequent analyses.\n"
   ]
  },
  {
   "cell_type": "markdown",
   "metadata": {},
   "source": [
    "### Count the Total Records\n",
    "\n",
    "To get an understanding of the dataset size, we'll count the total number of records in the DataFrame.\n"
   ]
  },
  {
   "cell_type": "code",
   "execution_count": 5,
   "metadata": {},
   "outputs": [
    {
     "name": "stderr",
     "output_type": "stream",
     "text": [
      "[Stage 2:=====================================================>   (33 + 2) / 35]\r"
     ]
    },
    {
     "name": "stdout",
     "output_type": "stream",
     "text": [
      "Total records: 10063255\n"
     ]
    },
    {
     "name": "stderr",
     "output_type": "stream",
     "text": [
      "                                                                                \r"
     ]
    }
   ],
   "source": [
    "# Count the number of records\n",
    "count = df.count()\n",
    "print(f\"Total records: {count}\")\n"
   ]
  },
  {
   "cell_type": "markdown",
   "metadata": {},
   "source": [
    "### Dataset Size\n",
    "\n",
    "The dataset contains a substantial number of records, specifically 10,063,255 entries. This indicates a large collection of reviews and related information from the Amazon Cell Phones and Accessories category.\n"
   ]
  }
 ],
 "metadata": {
  "kernelspec": {
   "display_name": "env",
   "language": "python",
   "name": "python3"
  },
  "language_info": {
   "codemirror_mode": {
    "name": "ipython",
    "version": 3
   },
   "file_extension": ".py",
   "mimetype": "text/x-python",
   "name": "python",
   "nbconvert_exporter": "python",
   "pygments_lexer": "ipython3",
   "version": "3.10.10"
  },
  "orig_nbformat": 4
 },
 "nbformat": 4,
 "nbformat_minor": 2
}

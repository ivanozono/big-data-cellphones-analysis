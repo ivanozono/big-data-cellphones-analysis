{
 "cells": [
  {
   "cell_type": "markdown",
   "metadata": {},
   "source": [
    "# Exploratory Data Analysis (EDA)\n",
    "\n",
    "In this notebook, we will dive deep into the data, visualize patterns, identify anomalies, and gather insights.\n"
   ]
  },
  {
   "cell_type": "markdown",
   "metadata": {},
   "source": [
    "## Setup & Data Loading\n",
    "\n",
    "In this section, we'll set up our environment by importing necessary libraries and load the processed data for our exploratory data analysis. It's essential to ensure that our environment has all the tools required and that our data is loaded correctly before diving into the analysis.\n"
   ]
  },
  {
   "cell_type": "code",
   "execution_count": 1,
   "metadata": {},
   "outputs": [],
   "source": [
    "# PySpark Libraries\n",
    "from pyspark.sql import SparkSession\n",
    "from pyspark.sql import functions as F\n",
    "from pyspark.sql.types import *\n",
    "\n",
    "# Visualization and Data Manipulation Libraries\n",
    "import pandas as pd\n",
    "import numpy as np\n",
    "import matplotlib.pyplot as plt\n",
    "import seaborn as sns\n"
   ]
  },
  {
   "cell_type": "code",
   "execution_count": 2,
   "metadata": {},
   "outputs": [
    {
     "name": "stderr",
     "output_type": "stream",
     "text": [
      "23/10/30 19:13:57 WARN Utils: Your hostname, MacBook-Air-de-Ivan.local resolves to a loopback address: 127.0.0.1; using 192.168.0.10 instead (on interface en0)\n",
      "23/10/30 19:13:57 WARN Utils: Set SPARK_LOCAL_IP if you need to bind to another address\n",
      "Setting default log level to \"WARN\".\n",
      "To adjust logging level use sc.setLogLevel(newLevel). For SparkR, use setLogLevel(newLevel).\n",
      "23/10/30 19:13:57 WARN NativeCodeLoader: Unable to load native-hadoop library for your platform... using builtin-java classes where applicable\n",
      "23/10/30 19:13:59 WARN Utils: Service 'SparkUI' could not bind on port 4040. Attempting port 4041.\n",
      "23/10/30 19:13:59 WARN Utils: Service 'SparkUI' could not bind on port 4041. Attempting port 4042.\n",
      "                                                                                \r"
     ]
    },
    {
     "name": "stdout",
     "output_type": "stream",
     "text": [
      "+----------+-------+--------------------+-----------+--------------+---------------+--------------------+--------------+--------+-----------------+--------------+----------+-----------+---------+-----------------+------------+-----------+\n",
      "|      asin|overall|          reviewText| reviewTime|    reviewerID|   reviewerName|             summary|unixReviewTime|verified|reviewText_length|summary_length|reviewDate|day_of_week|sentiment|       avg_rating|review_count|is_verified|\n",
      "+----------+-------+--------------------+-----------+--------------+---------------+--------------------+--------------+--------+-----------------+--------------+----------+-----------+---------+-----------------+------------+-----------+\n",
      "|1539759105|    5.0|Ron Ripley doesn'...| 12 9, 2016|A2N7K86QTR2GO2|            TDK|1 of my favorite ...|    1481241600|    true|              370|            24|2016-12-08|   Thursday| Positive|4.316666666666666|          60|          1|\n",
      "|1539759105|    4.0|Loved the stories...|06 27, 2018|A2BJ7YPL3G0CIE|me,myself and I|Would love to see...|    1530057600|    true|              105|            88|2018-06-26|    Tuesday| Positive|4.316666666666666|          60|          1|\n",
      "|1539759105|    5.0|This was deliciou...| 12 3, 2016|A3HG5ZJECRSUF8|Amazon Customer|I want more of th...|    1480723200|   false|              147|            23|2016-12-02|     Friday| Positive|4.316666666666666|          60|          0|\n",
      "|1539759105|    5.0|Really creepy sto...|06 25, 2018| A43VDDTTQZ8YW|       Tricia57|         Scary Stuff|    1529884800|    true|               32|            11|2018-06-24|     Sunday| Positive|4.316666666666666|          60|          1|\n",
      "|1539759105|    4.0|Solid storytellin...|11 30, 2016|A12IVPSB2GUOBS|     CatsnBooks|quick reads and a...|    1480464000|    true|              161|            41|2016-11-29|    Tuesday| Positive|4.316666666666666|          60|          1|\n",
      "+----------+-------+--------------------+-----------+--------------+---------------+--------------------+--------------+--------+-----------------+--------------+----------+-----------+---------+-----------------+------------+-----------+\n",
      "only showing top 5 rows\n",
      "\n"
     ]
    }
   ],
   "source": [
    "from pyspark.sql import SparkSession\n",
    "import pyspark.sql.functions as F\n",
    "\n",
    "# Initialize Spark session\n",
    "spark = SparkSession.builder \\\n",
    "    .appName(\"Cell_Phones_Analysis_EDA\") \\\n",
    "    .getOrCreate()\n",
    "\n",
    "# Load the processed data\n",
    "path_to_processed_data = \"/Users/ivanozono/Proyects/big-data-cellphones-analysis/data_amazon/processed\"\n",
    "df = spark.read.parquet(path_to_processed_data)\n",
    "\n",
    "# Display the first few rows to confirm successful data loading\n",
    "df.show(5)\n"
   ]
  },
  {
   "cell_type": "markdown",
   "metadata": {},
   "source": [
    "The data has been successfully loaded into our Spark DataFrame. We've displayed the first few rows to get a quick glance at our dataset. This will be the starting point for our exploratory data analysis, ensuring that we have all the necessary columns and data transformations from our preprocessing steps.\n"
   ]
  },
  {
   "cell_type": "markdown",
   "metadata": {},
   "source": [
    "## Basic Data Overview\n",
    "\n",
    "Before diving deep into specific analyses, it's crucial to get a basic overview of our data. This helps in understanding the data's structure, potential patterns, or any anomalies right at the onset. In this section, we'll glance at the first few rows of our dataset and also gather some summary statistics.\n"
   ]
  },
  {
   "cell_type": "code",
   "execution_count": 3,
   "metadata": {},
   "outputs": [
    {
     "name": "stdout",
     "output_type": "stream",
     "text": [
      "+----------+-------+--------------------+-----------+--------------+---------------+--------------------+--------------+--------+-----------------+--------------+----------+-----------+---------+-----------------+------------+-----------+\n",
      "|      asin|overall|          reviewText| reviewTime|    reviewerID|   reviewerName|             summary|unixReviewTime|verified|reviewText_length|summary_length|reviewDate|day_of_week|sentiment|       avg_rating|review_count|is_verified|\n",
      "+----------+-------+--------------------+-----------+--------------+---------------+--------------------+--------------+--------+-----------------+--------------+----------+-----------+---------+-----------------+------------+-----------+\n",
      "|1539759105|    5.0|Ron Ripley doesn'...| 12 9, 2016|A2N7K86QTR2GO2|            TDK|1 of my favorite ...|    1481241600|    true|              370|            24|2016-12-08|   Thursday| Positive|4.316666666666666|          60|          1|\n",
      "|1539759105|    4.0|Loved the stories...|06 27, 2018|A2BJ7YPL3G0CIE|me,myself and I|Would love to see...|    1530057600|    true|              105|            88|2018-06-26|    Tuesday| Positive|4.316666666666666|          60|          1|\n",
      "|1539759105|    5.0|This was deliciou...| 12 3, 2016|A3HG5ZJECRSUF8|Amazon Customer|I want more of th...|    1480723200|   false|              147|            23|2016-12-02|     Friday| Positive|4.316666666666666|          60|          0|\n",
      "|1539759105|    5.0|Really creepy sto...|06 25, 2018| A43VDDTTQZ8YW|       Tricia57|         Scary Stuff|    1529884800|    true|               32|            11|2018-06-24|     Sunday| Positive|4.316666666666666|          60|          1|\n",
      "|1539759105|    4.0|Solid storytellin...|11 30, 2016|A12IVPSB2GUOBS|     CatsnBooks|quick reads and a...|    1480464000|    true|              161|            41|2016-11-29|    Tuesday| Positive|4.316666666666666|          60|          1|\n",
      "+----------+-------+--------------------+-----------+--------------+---------------+--------------------+--------------+--------+-----------------+--------------+----------+-----------+---------+-----------------+------------+-----------+\n",
      "only showing top 5 rows\n",
      "\n"
     ]
    }
   ],
   "source": [
    "# Display the first few rows of the dataset\n",
    "df.show(5)\n"
   ]
  },
  {
   "cell_type": "code",
   "execution_count": 4,
   "metadata": {},
   "outputs": [
    {
     "name": "stdout",
     "output_type": "stream",
     "text": [
      "root\n",
      " |-- asin: string (nullable = true)\n",
      " |-- overall: double (nullable = true)\n",
      " |-- reviewText: string (nullable = true)\n",
      " |-- reviewTime: string (nullable = true)\n",
      " |-- reviewerID: string (nullable = true)\n",
      " |-- reviewerName: string (nullable = true)\n",
      " |-- summary: string (nullable = true)\n",
      " |-- unixReviewTime: long (nullable = true)\n",
      " |-- verified: boolean (nullable = true)\n",
      " |-- reviewText_length: integer (nullable = true)\n",
      " |-- summary_length: integer (nullable = true)\n",
      " |-- reviewDate: date (nullable = true)\n",
      " |-- day_of_week: string (nullable = true)\n",
      " |-- sentiment: string (nullable = true)\n",
      " |-- avg_rating: double (nullable = true)\n",
      " |-- review_count: long (nullable = true)\n",
      " |-- is_verified: integer (nullable = true)\n",
      "\n"
     ]
    }
   ],
   "source": [
    "df.printSchema()\n"
   ]
  },
  {
   "cell_type": "markdown",
   "metadata": {},
   "source": [
    "### Describing Specific Columns\n",
    "\n",
    "To get a clearer understanding of our data's distribution, we will focus on describing specific columns that could give us meaningful insights.\n",
    "\n",
    "overall: This column represents the rating given by the user. By analyzing its statistics, we can determine the average rating across all products and its distribution.\n",
    "\n",
    "reviewText_length and summary_length: These columns represent the length of the review text and summary, respectively. Analyzing these can give insights into the verbosity of the reviews and the typical length of summaries.\n",
    "\n",
    "avg_rating: This column represents the average rating of a product. It can provide insights into the general sentiment towards products.\n",
    "\n",
    "review_count: Indicates how many reviews a product has received. This can help us identify popular products or those that are frequently discussed."
   ]
  },
  {
   "cell_type": "code",
   "execution_count": 5,
   "metadata": {},
   "outputs": [
    {
     "name": "stderr",
     "output_type": "stream",
     "text": [
      "23/10/30 19:14:26 WARN package: Truncated the string representation of a plan since it was too large. This behavior can be adjusted by setting 'spark.sql.debug.maxToStringFields'.\n",
      "[Stage 3:=============================>                            (8 + 8) / 16]\r"
     ]
    },
    {
     "name": "stdout",
     "output_type": "stream",
     "text": [
      "+-------+------------------+-------------------+------------------+------------------+-----------------+------------------+------------------+\n",
      "|summary|           overall|     unixReviewTime| reviewText_length|    summary_length|       avg_rating|      review_count|       is_verified|\n",
      "+-------+------------------+-------------------+------------------+------------------+-----------------+------------------+------------------+\n",
      "|  count|          10063255|           10063255|          10063255|          10063255|         10063255|          10063255|          10063255|\n",
      "|   mean| 3.933553308546787|1.440631763666607E9| 200.8255210664939| 22.52015585414461| 3.93355330854717| 809.7232556464087| 0.915197319356411|\n",
      "| stddev|1.4625081608313872|5.203794105593754E7|332.96528196218543|19.117319824734555|0.621263748414617|1671.1152409295141|0.2785878563605844|\n",
      "|    min|               1.0|          941328000|                 1|                 1|              1.0|                 1|                 0|\n",
      "|    max|               5.0|         1538697600|             33457|               371|              5.0|             13560|                 1|\n",
      "+-------+------------------+-------------------+------------------+------------------+-----------------+------------------+------------------+\n",
      "\n"
     ]
    },
    {
     "name": "stderr",
     "output_type": "stream",
     "text": [
      "                                                                                \r"
     ]
    }
   ],
   "source": [
    "numeric_cols = ['overall', 'unixReviewTime', 'reviewText_length', 'summary_length', 'avg_rating', 'review_count', 'is_verified']\n",
    "df.describe(numeric_cols).show()\n"
   ]
  },
  {
   "cell_type": "markdown",
   "metadata": {},
   "source": [
    "### Observations from the Summary Statistics:\n",
    "\n",
    "1. **Overall Rating (`overall`)**:\n",
    "   - The average rating across all reviews is approximately 3.93, which suggests that the majority of the reviews are positive.\n",
    "   - Ratings range from a minimum of 1.0 to a maximum of 5.0, as expected.\n",
    "\n",
    "2. **Review Time (`unixReviewTime`)**:\n",
    "   - The reviews span a range of time, with the earliest review timestamp being 941,328,000 and the latest being 1,538,697,600. This information might be more interpretable if converted to human-readable dates.\n",
    "\n",
    "3. **Review Text Length (`reviewText_length`)**:\n",
    "   - On average, the review texts are around 200 characters long.\n",
    "   - Some reviews are very short with just 1 character, while the longest review has 33,457 characters. This suggests a wide variety in the verbosity of reviewers.\n",
    "\n",
    "4. **Summary Length (`summary_length`)**:\n",
    "   - The average length of the summary is about 22.5 characters.\n",
    "   - The summaries range from 1 character to 371 characters. Some summaries are concise, while others provide more detailed headlines.\n",
    "\n",
    "5. **Average Rating per Product (`avg_rating`)**:\n",
    "   - The mean average rating across products is approximately 3.93, which aligns with the overall rating statistics. Products, on average, tend to receive positive ratings.\n",
    "\n",
    "6. **Review Count per Product (`review_count`)**:\n",
    "   - Products receive an average of around 810 reviews.\n",
    "   - Some products only have 1 review, while the most reviewed product has 13,560 reviews. This indicates varying popularity and discussion levels for different products.\n",
    "\n",
    "7. **Verification Status (`is_verified`)**:\n",
    "   - About 91.5% of the reviews are verified, suggesting that the majority of reviews come from verified purchases.\n",
    "\n",
    "These statistics provide a comprehensive overview of the dataset and set the foundation for further exploratory and analytical work.\n"
   ]
  },
  {
   "cell_type": "markdown",
   "metadata": {},
   "source": [
    "### Distribution of Ratings\n",
    "\n",
    "Understanding the distribution of ratings can provide insights into the overall sentiment of the reviews. Let's visualize the distribution of ratings in the `overall` column to see how users generally rate the products.\n"
   ]
  },
  {
   "cell_type": "code",
   "execution_count": 9,
   "metadata": {},
   "outputs": [
    {
     "name": "stderr",
     "output_type": "stream",
     "text": [
      "                                                                                \r"
     ]
    },
    {
     "data": {
      "image/png": "[encoded data removed]",
      "text/plain": [
       "<Figure size 1000x600 with 1 Axes>"
      ]
     },
     "metadata": {},
     "output_type": "display_data"
    }
   ],
   "source": [
    "# Step 1: Aggregation in Spark\n",
    "# Group by the \"overall\" column and count the number of reviews for each rating\n",
    "ratings_distribution = df.groupBy(\"overall\").count().collect()\n",
    "\n",
    "# Extract ratings and their respective counts\n",
    "ratings = [row['overall'] for row in ratings_distribution]\n",
    "counts = [row['count'] for row in ratings_distribution]\n",
    "\n",
    "# Step 2: Visualization using Matplotlib\n",
    "import matplotlib.pyplot as plt\n",
    "\n",
    "# Set up the figure and axis for the plot\n",
    "plt.figure(figsize=(10,6))\n",
    "\n",
    "# Create a bar chart to display the distribution of ratings\n",
    "plt.bar(ratings, counts, color='blue', alpha=0.7)\n",
    "\n",
    "# Label the x and y axes and set the title\n",
    "plt.xlabel('Rating')\n",
    "plt.ylabel('Number of Reviews')\n",
    "plt.title('Distribution of Ratings')\n",
    "\n",
    "# Set the ticks on the x-axis to match the unique ratings\n",
    "plt.xticks(ratings)\n",
    "\n",
    "# Add a grid on the y-axis for better readability\n",
    "plt.grid(axis='y')\n",
    "\n",
    "# Display the plot\n",
    "plt.show()\n"
   ]
  },
  {
   "cell_type": "markdown",
   "metadata": {},
   "source": [
    "#### Observations: \n",
    "\n",
    "5-Star Ratings: This is the most common rating, indicating that a majority of users are satisfied with their purchases. The height of the bar corresponding to 5 stars is the tallest, suggesting high customer satisfaction.\n",
    "\n",
    "1 to 4-Star Ratings: These bars are notably shorter than the 5-star rating bar, indicating fewer reviews with these ratings. \n",
    "\n",
    "Trends: As the ratings decrease from 5 to 1, there's generally a trend of increasing frequencies, suggesting that products either get very positive reviews or very negative ones, with fewer in-between ratings."
   ]
  }
 ],
 "metadata": {
  "kernelspec": {
   "display_name": "env",
   "language": "python",
   "name": "python3"
  },
  "language_info": {
   "codemirror_mode": {
    "name": "ipython",
    "version": 3
   },
   "file_extension": ".py",
   "mimetype": "text/x-python",
   "name": "python",
   "nbconvert_exporter": "python",
   "pygments_lexer": "ipython3",
   "version": "3.10.10"
  }
 },
 "nbformat": 4,
 "nbformat_minor": 2
}
